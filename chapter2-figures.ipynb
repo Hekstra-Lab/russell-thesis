{
 "cells": [
  {
   "cell_type": "markdown",
   "id": "4b35df97-ccb6-4ad8-9012-4dafe3d50e6d",
   "metadata": {},
   "source": [
    "# All figures for Chapter 2"
   ]
  },
  {
   "cell_type": "code",
   "execution_count": null,
   "id": "83211772-5030-479d-8a0b-3fb8c8642055",
   "metadata": {},
   "outputs": [],
   "source": [
    "from dask.distributed import Client\n",
    "client = Client(processes=False)\n",
    "client"
   ]
  },
  {
   "cell_type": "code",
   "execution_count": null,
   "id": "d99e7d72-28d9-456a-86b3-876be74132ed",
   "metadata": {},
   "outputs": [],
   "source": [
    "import numpy as np\n",
    "import pandas as pd\n",
    "import xarray as xr\n",
    "import matplotlib.pyplot as plt\n",
    "import microutil as mu\n",
    "import scipy.ndimage as ndi\n",
    "from scipy.stats import linregress\n",
    "from skimage.morphology import disk\n",
    "from skimage.segmentation import expand_labels\n",
    "from skimage.filters import sobel\n",
    "from skimage.registration import phase_cross_correlation\n",
    "from srs_tools import BackgroundEstimator\n",
    "\n",
    "%matplotlib widget\n",
    "plt.style.use(\"paper\")\n",
    "\n",
    "colors = plt.rcParams['axes.prop_cycle'].by_key()['color']\n",
    "labels_cmap = plt.cm.viridis.copy()\n",
    "labels_cmap.set_under(alpha=0)\n",
    "\n",
    "mask_cmap = plt.cm.gray_r.copy()\n",
    "mask_cmap.set_under(alpha=0)\n",
    "\n",
    "rlabels = plt.cm.Reds.copy()\n",
    "rlabels.set_under(alpha=0)\n",
    "\n",
    "blabels = plt.cm.Blues.copy()\n",
    "blabels.set_under(alpha=0)\n",
    "\n",
    "olabels = plt.cm.Oranges.copy()\n",
    "olabels.set_under(alpha=0)\n",
    "\n",
    "figpath = \"/Users/johnrussell/Documents/figures/2023-06-figs-paper/\"\n",
    "savefigs=False"
   ]
  },
  {
   "cell_type": "markdown",
   "id": "e7c09c1e-4387-408d-95ed-3bbef38f7e92",
   "metadata": {},
   "source": [
    "## IO and analysis"
   ]
  },
  {
   "cell_type": "markdown",
   "id": "e03bf87c-7b32-445d-96d3-749457c92477",
   "metadata": {},
   "source": [
    "### Blank Agarose Dataset"
   ]
  },
  {
   "cell_type": "code",
   "execution_count": null,
   "id": "63624a29-976d-4574-8621-b7503b7b8be7",
   "metadata": {},
   "outputs": [],
   "source": [
    "blank_ds = xr.open_zarr(\"/Users/johnrussell/Data/2023-04-02/d7g_agarose.zarr\").load()\n",
    "blank_ds['squash'] = blank_ds.images.isel(C=-1).mean('Z', dtype='f4')\n",
    "blank_ds['mask'] = blank_ds.ignore_mask.isel(C=1)"
   ]
  },
  {
   "cell_type": "code",
   "execution_count": null,
   "id": "7cd49840-99ae-46f9-8862-98d7e31e8c3c",
   "metadata": {},
   "outputs": [],
   "source": [
    "blank_ds['single_labels'] = xr.DataArray(BackgroundEstimator._make_cv_labels(blank_ds.mask.any('S').astype('u2'), N=24), dims=list('YX'))"
   ]
  },
  {
   "cell_type": "code",
   "execution_count": null,
   "id": "a2c585bf-7002-4e57-8e6e-931b29edf525",
   "metadata": {},
   "outputs": [],
   "source": [
    "expanded = expand_labels(blank_ds['single_labels'].squeeze().data, distance=3)\n",
    "expanded = (blank_ds['mask'].astype(bool).any('S').data==0)*expanded"
   ]
  },
  {
   "cell_type": "code",
   "execution_count": null,
   "id": "22630560-619f-410b-a443-72f7a8abc6f2",
   "metadata": {},
   "outputs": [],
   "source": [
    "neighborhood = expanded-blank_ds['single_labels'].squeeze().data"
   ]
  },
  {
   "cell_type": "code",
   "execution_count": null,
   "id": "f890cf04-0282-4af5-8fdb-02809817cacc",
   "metadata": {},
   "outputs": [],
   "source": [
    "nan_masked = blank_ds['squash'].where(blank_ds['mask']==0)\n",
    "scales = nan_masked.mean(list('YX'))\n",
    "# offset = nan_masked.mean(list('YX'))\n",
    "# scale = nan_masked.std(list('YX'))\n",
    "scores = (blank_ds['squash']/scales)\n",
    "# scores = (nan_masked-offset)/scale\n",
    "bkgd_est = scores.median('S')*scales\n",
    "# bkgd_est = xr.DataArray(bkgd_est, dims=list(\"SYX\"))\n",
    "# bkgd_est = scores.mean('S')*scale + offset"
   ]
  },
  {
   "cell_type": "code",
   "execution_count": null,
   "id": "bbe3d5d6-cba7-4576-ac7c-1ebc5d493776",
   "metadata": {},
   "outputs": [],
   "source": [
    "shared_avgs = (mu.single_cell.average(blank_ds['single_labels'].squeeze().to_dataset(name='labels'), blank_ds['squash'])\n",
    "               .to_dataframe(name='avg')\n",
    "               .unstack('S')\n",
    "               .dropna())\n",
    "shared_avgs.columns = list(range(10))\n",
    "est_avgs = (mu.single_cell.average(blank_ds['single_labels'].squeeze().to_dataset(name='labels'), bkgd_est)\n",
    "               .to_dataframe(name='avg')\n",
    "               .unstack('S')\n",
    "               .dropna())\n",
    "est_avgs.columns = list(range(10))"
   ]
  },
  {
   "cell_type": "code",
   "execution_count": null,
   "id": "6d31dcc4-e873-44df-bb89-0dc2c6768fbd",
   "metadata": {},
   "outputs": [],
   "source": [
    "rmse = np.sqrt(((shared_avgs-est_avgs)**2).mean(1))"
   ]
  },
  {
   "cell_type": "code",
   "execution_count": null,
   "id": "a4013668-30db-48b7-a67a-dd331fd5f711",
   "metadata": {},
   "outputs": [],
   "source": [
    "neighbor_labels = xr.Dataset({'labels':xr.DataArray(neighborhood, dims=list('YX'))})"
   ]
  },
  {
   "cell_type": "code",
   "execution_count": null,
   "id": "ba00b28a-e735-45ad-b6de-1be45426a215",
   "metadata": {},
   "outputs": [],
   "source": [
    "neighbor_avgs = (mu.single_cell.average(neighbor_labels, blank_ds['squash'])\n",
    "                 .to_dataframe(name='avg')\n",
    "                 .unstack('S')\n",
    "                 .dropna())\n",
    "neighbor_avgs.columns = list(range(10))"
   ]
  },
  {
   "cell_type": "code",
   "execution_count": null,
   "id": "5d151b39-5b6d-4bca-a941-309290beb010",
   "metadata": {},
   "outputs": [],
   "source": [
    "neighbor_rmse = np.sqrt(((shared_avgs-neighbor_avgs)**2).mean(1))"
   ]
  },
  {
   "cell_type": "code",
   "execution_count": null,
   "id": "1e2fdef5-91eb-4013-bff3-ec68474a9802",
   "metadata": {},
   "outputs": [],
   "source": [
    "blank_be = BackgroundEstimator(blank_ds['squash'].expand_dims('T', axis=1), blank_ds['mask'].expand_dims('T', axis=1))"
   ]
  },
  {
   "cell_type": "code",
   "execution_count": null,
   "id": "eeb92822-163f-4ed3-a7bc-f7949e231e4a",
   "metadata": {},
   "outputs": [],
   "source": [
    "blank_be.make_cv_labels()\n",
    "# blank_be.sigma_scan()\n",
    "# blank_be.sigma_opt.load();\n",
    "blank_be.sigma_opt = xr.DataArray([2,42],dims=['k'])\n",
    "print(blank_be.sigma_opt)"
   ]
  },
  {
   "cell_type": "code",
   "execution_count": null,
   "id": "650c7c44-3630-4961-a690-30ba30d0246c",
   "metadata": {},
   "outputs": [],
   "source": [
    "true_avgs = (mu.single_cell.average(blank_be.cv_labels.to_dataset(name='labels'), blank_ds.squash)\n",
    "             .to_series()\n",
    "             .dropna())\n",
    "pred_avgs = (mu.single_cell.average(blank_be.cv_labels.to_dataset(name='labels'), blank_be.background_estimate.squeeze())\n",
    "             .to_series()\n",
    "             .dropna())"
   ]
  },
  {
   "cell_type": "code",
   "execution_count": null,
   "id": "67fb61f5-1169-478d-9074-414c88e3f7fe",
   "metadata": {},
   "outputs": [],
   "source": [
    "final_avgs = (mu.single_cell.average(blank_ds['single_labels'].squeeze().to_dataset(name='labels'), blank_be.background_estimate.squeeze())\n",
    "               .to_dataframe(name='avg')\n",
    "               .unstack('S')\n",
    "               .dropna())\n",
    "final_avgs.columns = list(range(10))"
   ]
  },
  {
   "cell_type": "code",
   "execution_count": null,
   "id": "5539bae9-5390-4ceb-ad7e-485eaf59e647",
   "metadata": {},
   "outputs": [],
   "source": [
    "final_rmse = np.sqrt(((final_avgs-shared_avgs)**2).mean(1))"
   ]
  },
  {
   "cell_type": "markdown",
   "id": "4762fe55-a2cf-4448-b427-8313cf7d55ad",
   "metadata": {},
   "source": [
    "### Scanspeed test cell mixture"
   ]
  },
  {
   "cell_type": "code",
   "execution_count": null,
   "id": "2cb249b0-be77-41e8-ad90-734ba1f06c22",
   "metadata": {},
   "outputs": [],
   "source": [
    "scanspeed_ds = xr.open_zarr(\"/Users/johnrussell/Data/2023-02-27/cell_scanspeed.zarr/\")\n",
    "scanspeed_ds['squash'] = scanspeed_ds.images.isel(C=-1).mean('Z', dtype='f4').load()\n",
    "scanspeed_ds['fluo'] = scanspeed_ds.images.isel(C=0, T=3).mean('Z').load()\n",
    "scanspeed_ds.labels.load()\n",
    "scanspeed_ds['cv_labels'] = xr.apply_ufunc(BackgroundEstimator._make_cv_labels, scanspeed_ds['labels'], vectorize=True,\n",
    "            input_core_dims=[list(\"YX\")],\n",
    "            output_core_dims=[list(\"YX\")],\n",
    "            dask=\"parallelized\",\n",
    "            output_dtypes=[\"u2\"],\n",
    "            dask_gufunc_kwargs={\"allow_rechunk\": True})\n",
    "scanspeed_ds['bf'] = scanspeed_ds.images.isel(C=1, T=3, Z=2)"
   ]
  },
  {
   "cell_type": "code",
   "execution_count": null,
   "id": "26032774-21c3-4eac-82e5-996136788652",
   "metadata": {},
   "outputs": [],
   "source": [
    "bf_edges = xr.apply_ufunc(sobel, scanspeed_ds['bf'], input_core_dims=[list('YX')], output_core_dims=[list('YX')], vectorize=True, dask='parallelized').load()\n",
    "fluo_edges = xr.apply_ufunc(sobel, scanspeed_ds['fluo'], input_core_dims=[list('YX')], output_core_dims=[list('YX')], vectorize=True, dask='parallelized').load()\n",
    "\n",
    "fluo_aligned_labels = xr.zeros_like(scanspeed_ds.labels)\n",
    "for i in range(scanspeed_ds.sizes['I']):\n",
    "    shift, _, _ = phase_cross_correlation(fluo_edges[i].data, bf_edges[i].data)\n",
    "    fluo_aligned_labels[i] = scanspeed_ds.labels[i].shift(dict(zip('YX',shift.astype(int)))).fillna(0).astype(int)\n",
    "    scanspeed_ds['fluo'][i] = scanspeed_ds['fluo'][i].shift(dict(zip('YX',-shift.astype(int)))).fillna(0).astype(int)\n",
    "\n",
    "n = 3\n",
    "d = scanspeed_ds.labels.ndim\n",
    "structure= np.zeros(d*(2*n+1,), dtype='bool')\n",
    "structure[n]= disk(n)\n",
    "fluo_dilated = ndi.binary_dilation(fluo_aligned_labels.data>0, structure=structure, iterations=3)\n",
    "\n",
    "fluo_init_bkgd = xr.apply_ufunc(BackgroundEstimator._make_initial_estimate,\n",
    "                                scanspeed_ds['fluo'], scanspeed_ds['labels']>0,\n",
    "                                input_core_dims=[list(\"IYX\"),list(\"IYX\")], output_core_dims=[list('IYX')])\n",
    "\n",
    "fluo_bsub = np.clip(scanspeed_ds['fluo']-fluo_init_bkgd, a_min=0, a_max=np.inf)\n",
    "fluo_bsub /= fluo_bsub.max(list('YX'))\n",
    "\n",
    "fluo_thresh = mu.calc_thresholds(fluo_bsub)\n",
    "# fluo_mask = (fluo_bsub> 0.5*fluo_thresh)*(fluo_aligned_labels>0)\n",
    "fluo_mask = (fluo_bsub> 0.25*fluo_thresh)*(scanspeed_ds.labels>0)\n",
    "\n",
    "# fluo_avgs = mu.single_cell.average(fluo_aligned_labels.to_dataset(), fluo_mask).to_series().dropna()\n",
    "fluo_avgs = mu.single_cell.average(scanspeed_ds.labels.to_dataset(), fluo_mask).to_series().dropna()\n",
    "\n",
    "fluo_series = (fluo_avgs>0.25)"
   ]
  },
  {
   "cell_type": "code",
   "execution_count": null,
   "id": "3e4ddb02-83ba-4cdd-968b-2d4cbe53cd08",
   "metadata": {},
   "outputs": [],
   "source": [
    "from srs_tools.util import check_labels_from_multiindex\n",
    "\n",
    "iplt = 2\n",
    "idx = fluo_series.loc[fluo_series].loc[iplt].index+1\n",
    "\n",
    "# f = scanspeed_ds['fluo'].isel(I=iplt).data\n",
    "f = fluo_bsub.isel(I=iplt).data\n",
    "m = np.isin(scanspeed_ds.labels.isel(I=iplt), idx)\n",
    "\n",
    "fig, ax = plt.subplots(1,2, sharex=True, sharey=True)\n",
    "ax[0].imshow(f, cmap='gray')\n",
    "ax[0].imshow(fluo_mask.isel(I=iplt).data, vmin=0.5, cmap=blabels)\n",
    "ax[1].imshow(f, cmap='gray')\n",
    "ax[1].imshow(m, cmap=rlabels, vmin=0.5, alpha=0.3)"
   ]
  },
  {
   "cell_type": "code",
   "execution_count": null,
   "id": "b9e61cd8-7bf3-4395-9609-8252d4c563b1",
   "metadata": {},
   "outputs": [],
   "source": [
    "scanspeed_raw_avgs = (mu.single_cell.average(scanspeed_ds, 'squash', label_name='labels')\n",
    "              .to_series()\n",
    "              .rename('srs')\n",
    "              .dropna()\n",
    "              .reset_index('T')\n",
    "              .rename(columns={'T':'speed'})\n",
    "              .assign(T=lambda df: np.log2(df['speed']).astype(int)-3)\n",
    "              .set_index('T', append=True)\n",
    "              .assign(d7g=fluo_series)\n",
    "              .dropna()\n",
    "              .astype({'d7g':bool}))\n",
    "\n",
    "scanspeed_cv_avgs = (mu.single_cell.average(scanspeed_ds, 'squash', label_name='cv_labels')\n",
    "              .to_series()\n",
    "              .rename('srs')\n",
    "              .dropna()\n",
    "              .reset_index('T')\n",
    "              .rename(columns={'T':'speed'})\n",
    "              .assign(T=lambda df: np.log2(df['speed']).astype(int)-3)\n",
    "              .set_index('T', append=True)\n",
    "              .assign(d7g=fluo_series)\n",
    "              .dropna()\n",
    "              .astype({'d7g':bool}))\n",
    "\n",
    "scanspeed_cv_sds = (mu.single_cell.standard_dev(scanspeed_ds, 'squash', label_name='cv_labels')\n",
    "              .to_series()\n",
    "              .rename('srs')\n",
    "              .dropna()\n",
    "              .reset_index('T')\n",
    "              .rename(columns={'T':'speed'})\n",
    "              .assign(T=lambda df: np.log2(df['speed']).astype(int)-3)\n",
    "              .set_index('T', append=True)\n",
    "              .assign(d7g=fluo_series)\n",
    "              .dropna()\n",
    "              .astype({'d7g':bool}))"
   ]
  },
  {
   "cell_type": "code",
   "execution_count": null,
   "id": "bb0d6026-32a5-4d2c-a1b8-59e0ce19df9e",
   "metadata": {},
   "outputs": [],
   "source": [
    "scanspeed_be = BackgroundEstimator(\n",
    "    scanspeed_ds.squash.isel(T=2).drop_vars('T').rename({'I':'S'}).expand_dims('T', axis=1),\n",
    "    scanspeed_ds.labels.rename({'I':'S'}).expand_dims('T', axis=1),)"
   ]
  },
  {
   "cell_type": "code",
   "execution_count": null,
   "id": "361a140d-d411-4c42-8382-dd9195aa3e72",
   "metadata": {},
   "outputs": [],
   "source": [
    "scanspeed_be.make_cv_labels()\n",
    "# scanspeed_be.sigma_scan()\n",
    "# scanspeed_be.sigma_opt.load();\n",
    "scanspeed_be.sigma_opt = xr.DataArray([10,10], dims='k')\n",
    "print(scanspeed_be.sigma_opt.data)\n",
    "scanspeed_be.background_estimate.load();"
   ]
  },
  {
   "cell_type": "code",
   "execution_count": null,
   "id": "70297aec-97b5-4e3c-a395-38abf8a3e627",
   "metadata": {},
   "outputs": [],
   "source": [
    "scanspeed_bsub = (scanspeed_ds.squash.isel(T=2).rename({'I':'S'}).squeeze()-scanspeed_be.background_estimate).squeeze()"
   ]
  },
  {
   "cell_type": "code",
   "execution_count": null,
   "id": "153e6eae-e74d-4c7e-8730-0519b231141f",
   "metadata": {},
   "outputs": [],
   "source": [
    "scanspeed_bsub_avgs = (mu.single_cell.average(scanspeed_be.labels.squeeze().to_dataset(name='labels'),scanspeed_bsub,)\n",
    "              .to_series()\n",
    "              .rename('srs')\n",
    "              .dropna()\n",
    "              .to_frame() \n",
    "              .assign(d7g=fluo_series)\n",
    "              .dropna()\n",
    "              .astype({'d7g':bool}))"
   ]
  },
  {
   "cell_type": "markdown",
   "id": "a5078155-9e67-4756-836d-b3c782933b51",
   "metadata": {},
   "source": [
    "### Demo timelapse frame"
   ]
  },
  {
   "cell_type": "code",
   "execution_count": null,
   "id": "81b7bbd1-a549-48a5-b844-e53caf77f384",
   "metadata": {},
   "outputs": [],
   "source": [
    "ds= xr.open_zarr(\"/Users/johnrussell/Data/2023-02-27/dh224_analysis.zarr\")\n",
    "\n",
    "demo_imgs = ds.images.isel(T=32, C=2).mean('Z').load()\n",
    "demo_labels = ds.labels.isel(T=32).load()\n",
    "demo_be = BackgroundEstimator(demo_imgs.expand_dims('T', axis=1), demo_labels.expand_dims('T', axis=1))\n",
    "demo_be.make_cv_labels()\n",
    "# demo_be.sigma_scan()\n",
    "# demo_be.sigma_opt.load();\n",
    "demo_be.sigma_opt = xr.DataArray([ 2., 82.], dims='k')\n",
    "print(demo_be.sigma_opt)\n",
    "# demo_be.background_estimate.load();"
   ]
  },
  {
   "cell_type": "code",
   "execution_count": null,
   "id": "fb2584b0-7aea-4049-942f-acbbbd332c6e",
   "metadata": {},
   "outputs": [],
   "source": [
    "demo_ds = demo_be.to_dataset().isel(S=8).squeeze()\n",
    "demo_dilate = demo_be.dilated_mask.isel(S=8).squeeze()"
   ]
  },
  {
   "cell_type": "code",
   "execution_count": null,
   "id": "9e8957b2-f49c-4b67-acff-1ed132b5982e",
   "metadata": {},
   "outputs": [],
   "source": [
    "pair = demo_be.to_dataset().isel(S=[4,8])[['images', 'labels']]\n",
    "pair_be = BackgroundEstimator(pair.images, pair.labels)\n",
    "pair_be.make_dilated_mask()\n",
    "nan_mask = pair.images.where(pair_be.dilated_mask==0).squeeze()\n",
    "init = pair_be.initial_estimate.squeeze()"
   ]
  },
  {
   "cell_type": "markdown",
   "id": "9264df38-081a-4acc-ae98-ba60656c6377",
   "metadata": {},
   "source": [
    "### DH245 Timelapse"
   ]
  },
  {
   "cell_type": "code",
   "execution_count": null,
   "id": "b0d0595c-3d8e-485f-97a1-0e6106dcf39c",
   "metadata": {},
   "outputs": [],
   "source": [
    "dh245_ds = xr.open_zarr(\"/Users/johnrussell/Data/2023-04-25/dh245_timelapse.zarr/\").isel(T=slice(1,None))"
   ]
  },
  {
   "cell_type": "code",
   "execution_count": null,
   "id": "a78285ce-60d8-43d6-af93-5bea77051c9f",
   "metadata": {},
   "outputs": [],
   "source": [
    "dh245_ds['srs_squash'] = dh245_ds.images.isel(C=-1).mean('Z', dtype='f4')"
   ]
  },
  {
   "cell_type": "code",
   "execution_count": null,
   "id": "2a4c167a-8a5c-462f-a688-5fe3af75c2ce",
   "metadata": {},
   "outputs": [],
   "source": [
    "dh245_be = BackgroundEstimator(dh245_ds.srs_squash, dh245_ds.labels)\n",
    "dh245_be.make_cv_labels()\n",
    "# dh245_be.sigma_scan(n_samples=5)\n",
    "# dh245_be.sigma_opt.load();\n",
    "dh245_be.sigma_opt = xr.DataArray([10,34], dims=['k'])\n",
    "print(dh245_be.sigma_opt)"
   ]
  },
  {
   "cell_type": "code",
   "execution_count": null,
   "id": "3a8fdc8e-dc95-4313-a03f-4125e7c72dcf",
   "metadata": {},
   "outputs": [],
   "source": [
    "dh245_be.background_estimate.load();"
   ]
  },
  {
   "cell_type": "code",
   "execution_count": null,
   "id": "202225a0-93c9-4458-9424-808aaf4c90b4",
   "metadata": {},
   "outputs": [],
   "source": [
    "dh245_ds.srs_squash.load();"
   ]
  },
  {
   "cell_type": "code",
   "execution_count": null,
   "id": "bc546617-ac55-4eea-8354-0a0b619c5904",
   "metadata": {},
   "outputs": [],
   "source": [
    "bkgd = dh245_be.background_estimate.where(~dh245_be.dilated_mask).mean(list('SYX')).load()\n",
    "bulk = dh245_ds.srs_squash.where(dh245_ds.labels>0).mean(list('SYX')).load()"
   ]
  },
  {
   "cell_type": "code",
   "execution_count": null,
   "id": "afad6219-4e7b-4611-8b22-8f24447fb065",
   "metadata": {},
   "outputs": [],
   "source": [
    "t245 = 14.2*np.arange(bulk.shape[0])"
   ]
  },
  {
   "cell_type": "code",
   "execution_count": null,
   "id": "c0d8c2e5-3376-4ef8-9321-22d3ae1d70a3",
   "metadata": {},
   "outputs": [],
   "source": [
    "bkgd_obs = dh245_ds.srs_squash.where(~dh245_be.dilated_mask).mean(list('SYX')).load()"
   ]
  },
  {
   "cell_type": "code",
   "execution_count": null,
   "id": "c2bcfd88-b48d-4bbb-a7ad-f37a71b40b96",
   "metadata": {},
   "outputs": [],
   "source": [
    "# raw_avgs = (mu.single_cell.average(ds, srs)\n",
    "#             .to_series()\n",
    "#             .dropna())"
   ]
  },
  {
   "cell_type": "markdown",
   "id": "9afa7c6b-2188-41f7-a1cc-21ea016e9d15",
   "metadata": {},
   "source": [
    "## Figures"
   ]
  },
  {
   "cell_type": "code",
   "execution_count": null,
   "id": "ff50082a-11fe-45f2-b2c0-9fb25604a46d",
   "metadata": {},
   "outputs": [],
   "source": [
    "# figure 1\n",
    "fig, ax = plt.subplots(1,2, figsize=(6.52, 2.5))\n",
    "ax[0].imshow(blank_ds['squash'].isel(S=1).data, cmap='gray')\n",
    "ax[0].axis('off')\n",
    "ax[0].set_title(\"Blank SRS Image\")\n",
    "\n",
    "ax[1].hist(blank_ds['squash'].isel(S=1).data.ravel(), bins=255, range=(0.5,255.5));\n",
    "ax[1].set_ylabel(\"Number of pixels\")\n",
    "ax[1].set_xlabel(\"Intensity\")\n",
    "ax[1].set_title(\"Pixel Intensity Distribution\")\n",
    "if savefigs: plt.savefig(figpath+\"image_with_hist.png\")"
   ]
  },
  {
   "cell_type": "code",
   "execution_count": null,
   "id": "9c4c0713-0e1b-4acb-974f-9845bf86d312",
   "metadata": {},
   "outputs": [],
   "source": [
    "# Autocorrelation plots?\n",
    "# y = blank_ds.squash.isel(S=0).mean('X').data\n",
    "# y = (y-y.mean())/(y.std())\n",
    "# x = blank_ds.squash.isel(S=0).mean('Y').data\n",
    "# x = (x-x.mean())/x.std()\n",
    "\n",
    "# a = np.zeros_like(y)\n",
    "# for i in range(512):\n",
    "#      a[i] = np.mean(x*np.roll(x, i))\n",
    "\n",
    "# cx = np.correlate(x,x,mode='same')/512\n",
    "# cy = np.correlate(y,y,mode='same')/512\n",
    "\n",
    "# plt.figure()\n",
    "# plt.plot(a)\n",
    "\n",
    "# plt.figure()\n",
    "# plt.plot(np.arange(256),cx[256:])\n",
    "# plt.plot(np.arange(256),cy[256:])"
   ]
  },
  {
   "cell_type": "code",
   "execution_count": null,
   "id": "8baad6a6-2ad7-464a-82c4-dfd7897ddf29",
   "metadata": {},
   "outputs": [],
   "source": [
    "# time varying background\n",
    "fig, ax = plt.subplots()\n",
    "ax.plot(t245, bulk, label='Average Cell Signal')\n",
    "ax.plot(t245, bkgd, label='Background')\n",
    "ax.set_title(\"Changes in Background Over Time\")\n",
    "ax.legend()\n",
    "ax.set_ylabel(\"SRS Intensity (a.u.)\")\n",
    "ax.set_xlabel(\"Time (minutes)\")\n",
    "if savefigs: plt.savefig(figpath+\"time_varying_bkgd.png\")"
   ]
  },
  {
   "cell_type": "code",
   "execution_count": null,
   "id": "999ccd09-04db-4101-8859-d79147506b77",
   "metadata": {},
   "outputs": [],
   "source": [
    "df = pd.concat([scanspeed_cv_avgs.srs.rename('mean'), scanspeed_cv_sds.srs.rename('sd')], axis=1)\n",
    "t = scanspeed_cv_avgs.speed.unique()\n",
    "\n",
    "fig, ax = plt.subplots(1,2,sharey=True,layout='constrained', figsize=(6.52,3))\n",
    "for i in range(t.shape[0]):\n",
    "    d = df.loc[pd.IndexSlice[:,:,5-i]]\n",
    "    ax[0].plot('mean','sd', \".\", data=d, markersize=2, label=f\"{t[5-i]:d} Hz\")\n",
    "    lr = linregress(d['mean'].values.squeeze(), d['sd'].values.squeeze())\n",
    "    xplt = np.linspace(d['mean'].quantile(0.01), d['mean'].quantile(0.99))\n",
    "    ax[0].plot(xplt, lr.slope*xplt+lr.intercept, '--', color=colors[i], linewidth=1, zorder=-1,)\n",
    "ax[0].legend(loc='center right', markerscale=5)#, bbox_to_anchor=(1.5,0.99));\n",
    "ax[0].set_xlabel(\"Local Average Intensity (a.u.)\")\n",
    "ax[0].set_ylabel(\"Local Noise (log scale - a.u.)\")\n",
    "\n",
    "ax[1].loglog();\n",
    "ax[1].errorbar(t,df.groupby('T').sd.mean().values, yerr=df.groupby('T').sd.std().values,capsize=3, fmt='ko')#,label=\"Average Noise Level $\\pm \\sigma$\")\n",
    "scale = df.groupby('T').sd.mean().iloc[1]/np.sqrt(t[1])\n",
    "ax[1].plot(t, scale*np.sqrt(t), 'k--', alpha=0.5, zorder=-1, label=\"$\\sqrt{f}$\")\n",
    "ax[1].set_xlabel(\"Scan Frequency (log scale)\")\n",
    "ax[1].legend(loc='lower right')\n",
    "\n",
    "plt.suptitle(\"Noise is Independent of Background\")\n",
    "if savefigs: plt.savefig(figpath+\"raw_noise_scan_speed.png\")"
   ]
  },
  {
   "cell_type": "code",
   "execution_count": null,
   "id": "df8131fb-3af0-4cbd-9849-4c2adf91eba9",
   "metadata": {},
   "outputs": [],
   "source": [
    "fig,ax = plt.subplots(1,2, figsize=(6.52,3))\n",
    "ax[0].imshow(blank_ds['squash'].isel(S=0).data, cmap='gray')\n",
    "ax[0].imshow(blank_ds['mask'].any('S').data, cmap=mask_cmap, vmin=0.5, interpolation='none')\n",
    "ax[0].imshow(blank_ds['single_labels'].squeeze(), cmap=labels_cmap, vmin=0.5, interpolation='none')\n",
    "ax[0].set_xticks([])\n",
    "ax[0].set_yticks([]);\n",
    "ax[0].set_title(\"Aligned test regions\", fontsize=12)\n",
    "\n",
    "ax[1].imshow(blank_ds['squash'].isel(S=0).data, cmap='gray')\n",
    "ax[1].imshow(blank_ds['mask'].any('S').data, cmap=mask_cmap, vmin=0.5, interpolation='none')\n",
    "ax[1].imshow(neighborhood, cmap=labels_cmap, vmin=0.5, interpolation='none')\n",
    "ax[1].set_xticks([])\n",
    "ax[1].set_yticks([])\n",
    "ax[1].set_title(\"Local neighborhoods\", fontsize=12)\n",
    "if savefigs: plt.savefig(figpath+\"region_donuts_overlay.png\")"
   ]
  },
  {
   "cell_type": "code",
   "execution_count": null,
   "id": "fe90f15c-bf60-4974-ba6b-55030f8ae965",
   "metadata": {},
   "outputs": [],
   "source": [
    "plt.figure()\n",
    "counts, bins, patches = plt.hist(neighbor_rmse, bins=100, density=True, range=(0,4), alpha=0.75, \n",
    "                                 label=f\"Neighborhood estimate (median={neighbor_rmse.median():0.2f})\")\n",
    "plt.axvline(neighbor_rmse.median(), linestyle='--', color=colors[0])\n",
    "plt.hist(rmse, bins=bins, alpha=0.75, density=True, label=f\"Estimate from other FOVs (median={rmse.median():0.2f})\");\n",
    "plt.axvline(rmse.median(), linestyle='--', color=colors[1])\n",
    "# plt.hist(final_rmse, bins=bins, alpha=0.75, density=True,label=f\"Final Estimate (median={final_rmse.median():0.2f})\")\n",
    "# plt.axvline(final_rmse.median(), linestyle='--', color=colors[2])\n",
    "plt.xlabel(\"RMSE\")\n",
    "plt.ylabel(\"Density\")\n",
    "plt.legend();\n",
    "plt.title(\"Multi-FOV vs. local estimation\")\n",
    "if savefigs: plt.savefig(figpath+\"estimate_comparison.png\")"
   ]
  },
  {
   "cell_type": "code",
   "execution_count": null,
   "id": "c8aeb7c7-ab1b-44f4-aa9d-b709e55da9b5",
   "metadata": {},
   "outputs": [],
   "source": [
    "iplt = 2"
   ]
  },
  {
   "cell_type": "code",
   "execution_count": null,
   "id": "412ec10d-857e-415b-b27f-ffba8577c48c",
   "metadata": {},
   "outputs": [],
   "source": [
    "all_labels = scanspeed_ds.labels.isel(I=iplt).data"
   ]
  },
  {
   "cell_type": "code",
   "execution_count": null,
   "id": "4a65bded-0262-43ac-a0dc-b4715fddaa8d",
   "metadata": {},
   "outputs": [],
   "source": [
    "# d7g_mask = np.isin(all_labels,scanspeed_raw_avgs.loc[scanspeed_raw_avgs.d7g].loc[(iplt, slice(None), tplt)].index.values+1)\n",
    "d7g_mask = np.isin(all_labels,fluo_series.loc[fluo_series].loc[iplt].index+1)"
   ]
  },
  {
   "cell_type": "code",
   "execution_count": null,
   "id": "2286a91f-efac-4c74-9216-50fb094f16be",
   "metadata": {},
   "outputs": [],
   "source": [
    "# unl_mask = np.isin(all_labels,scanspeed_raw_avgs.loc[~scanspeed_raw_avgs.d7g].loc[(iplt, slice(None), tplt)].index.values+1)\n",
    "unl_mask = np.isin(all_labels,fluo_series.loc[~fluo_series].loc[iplt].index+1)"
   ]
  },
  {
   "cell_type": "code",
   "execution_count": null,
   "id": "ff033815-f230-42f0-b098-283725f3ddb8",
   "metadata": {},
   "outputs": [],
   "source": [
    "# d7g_rings = expand_labels(d7g_mask, distance=2) ^ d7g_mask\n",
    "d7g_rings = d7g_mask^ndi.binary_erosion(d7g_mask, iterations=2)\n",
    "# unl_rings = expand_labels((all_labels*(~d7g_mask))>0, distance=2) ^ ((all_labels*(~d7g_mask))>0)\n",
    "unl_rings = unl_mask^ndi.binary_erosion(unl_mask, iterations=2)"
   ]
  },
  {
   "cell_type": "code",
   "execution_count": null,
   "id": "a7a50067-f21e-4cab-be28-187d2b72510d",
   "metadata": {},
   "outputs": [],
   "source": [
    "iplt = 2\n",
    "tplt = 2\n",
    "xsel = slice(327, 490)\n",
    "ysel = slice(62, 196)\n",
    "bfshow = scanspeed_ds.images.isel(I=iplt, T=tplt, C=1, Z=7, X=xsel, Y=ysel).load().data\n",
    "df = scanspeed_raw_avgs.loc[pd.IndexSlice[:,:,tplt]]\n",
    "fig, ax = plt.subplot_mosaic(\"ABC\", figsize=(6.52,3), sharex=True, sharey=True)\n",
    "ax['A'].imshow(scanspeed_ds['squash'].isel(I=iplt, T=tplt, X=xsel, Y=ysel).data, cmap='gray')\n",
    "ax['A'].axis('off')\n",
    "ax['A'].set_title(\"SRS\")\n",
    "\n",
    "ax['B'].imshow(scanspeed_ds['fluo'].isel(I=iplt, X=xsel, Y=ysel).data, cmap='gray')\n",
    "ax['B'].axis('off')\n",
    "ax['B'].set_title(\"Fluorescence\")\n",
    "\n",
    "ax['C'].imshow(bfshow, cmap='gray')\n",
    "ax['C'].axis('off')\n",
    "ax['C'].set_title(\"Brightfield\")\n",
    "\n",
    "for x in 'ABC':\n",
    "    ax[x].imshow(d7g_rings[(ysel, xsel)], cmap=blabels, vmin=0.5, interpolation='none')\n",
    "    ax[x].imshow(unl_rings[(ysel, xsel)], cmap=olabels, vmin=0.5, interpolation='none')\n"
   ]
  },
  {
   "cell_type": "code",
   "execution_count": null,
   "id": "eaf2826d-b51d-47ae-a37d-e8e5e1fef2ef",
   "metadata": {},
   "outputs": [],
   "source": [
    "# iplt = 2\n",
    "# tplt = 2\n",
    "# bfshow = scanspeed_ds.images.isel(I=iplt, T=tplt, C=1, Z=7).load().data\n",
    "# df = scanspeed_raw_avgs.loc[pd.IndexSlice[:,:,tplt]]\n",
    "# ax['A'].imshow(scanspeed_ds['squash'].isel(I=iplt, T=tplt).data, cmap='gray')\n",
    "# ax['A'].axis('off')\n",
    "# ax['A'].set_title(\"SRS\")\n",
    "\n",
    "# ax['B'].imshow(scanspeed_ds['fluo'].isel(I=iplt).data, cmap='gray')\n",
    "# ax['B'].axis('off')\n",
    "# ax['B'].set_title(\"Fluorescence\")\n",
    "\n",
    "# ax['C'].imshow(bfshow, cmap='gray')\n",
    "# ax['C'].axis('off')\n",
    "# ax['C'].set_title(\"Brightfield\")\n",
    "\n",
    "# for x in 'ABC':\n",
    "#     ax[x].imshow(d7g_rings, cmap=blabels, vmin=0.5, interpolation='none')\n",
    "#     ax[x].imshow(unl_rings, cmap=olabels, vmin=0.5, interpolation='none')"
   ]
  },
  {
   "cell_type": "code",
   "execution_count": null,
   "id": "ccd5dea1-166a-453c-988d-94db886427a5",
   "metadata": {},
   "outputs": [],
   "source": [
    "fig, ax = plt.subplot_mosaic(\"ABC;DDD\", figsize=(6.52,6))\n",
    "iplt = 2\n",
    "tplt = 2\n",
    "xsel = slice(327, 490)\n",
    "ysel = slice(62, 196)\n",
    "bfshow = scanspeed_ds.images.isel(I=iplt, T=tplt, C=1, Z=7, X=xsel, Y=ysel).load().data\n",
    "df = scanspeed_raw_avgs.loc[pd.IndexSlice[:,:,tplt]]\n",
    "ax['A'].imshow(scanspeed_ds['squash'].isel(I=iplt, T=tplt, X=xsel, Y=ysel).data, cmap='gray')\n",
    "ax['A'].axis('off')\n",
    "ax['A'].set_title(\"SRS\")\n",
    "\n",
    "ax['B'].imshow(scanspeed_ds['fluo'].isel(I=iplt, X=xsel, Y=ysel).data, cmap='gray')\n",
    "ax['B'].axis('off')\n",
    "ax['B'].set_title(\"Fluorescence\")\n",
    "\n",
    "ax['C'].imshow(bfshow, cmap='gray')\n",
    "ax['C'].axis('off')\n",
    "ax['C'].set_title(\"Brightfield\")\n",
    "\n",
    "for x in 'ABC':\n",
    "    ax[x].imshow(d7g_rings[(ysel, xsel)], cmap=blabels, vmin=0.5, interpolation='none')\n",
    "    ax[x].imshow(unl_rings[(ysel, xsel)], cmap=olabels, vmin=0.5, interpolation='none')\n",
    "hrange = (100,160)\n",
    "ax['D'].hist(df.loc[df.d7g]['srs'].values, bins=50, range=hrange, histtype='step', density=True, linewidth=2, label=\"D7G Labeled\")\n",
    "ax['D'].hist(df.loc[~df.d7g]['srs'].values, bins=50, range=hrange, histtype='step', density=True, linewidth=2, label='Unlabeled')\n",
    "ax['D'].set_ylabel(\"Fraction of Cells\")\n",
    "ax['D'].set_xlabel(\"SRS Intensity (a.u.)\")\n",
    "ax['D'].legend(loc='upper left')#, bbox_to_anchor=(1.5,0.95))\n",
    "ax['D'].set_title(\"Cellular SRS Intensities\");\n",
    "if savefigs:\n",
    "    plt.savefig(figpath+\"raw_srs_fluo_hist_demo.png\")"
   ]
  },
  {
   "cell_type": "code",
   "execution_count": null,
   "id": "758459bb-7152-4fc9-90a5-d62fc6cc59a1",
   "metadata": {},
   "outputs": [],
   "source": [
    "vmin = demo_ds.images.min().item()\n",
    "vmax = demo_ds.images.max().item()\n",
    "fig, ax = plt.subplots(2,3, figsize=(6.52,5), sharex=True, sharey=True)\n",
    "for a in ax.ravel(): a.axis('off')\n",
    "ax[0,0].imshow(demo_ds.images.data, cmap='gray', vmin=vmin, vmax=vmax)\n",
    "ax[0,0].set_title(\"1: Input image\")\n",
    "\n",
    "ax[0,1].imshow(demo_ds.images.data, cmap='gray', vmin=vmin, vmax=vmax)\n",
    "ax[0,1].imshow(demo_ds.labels.data, cmap=rlabels, vmin=0.1, interpolation='none')\n",
    "ax[0,1].set_title(\"2. Input masks\")\n",
    "\n",
    "ax[0,2].imshow(demo_ds.images, cmap='gray', vmin=vmin, vmax=vmax)\n",
    "ax[0,2].imshow(demo_ds.labels, cmap=rlabels, vmin=.1, interpolation='none')\n",
    "ax[0,2].imshow(demo_ds.cv_labels, cmap=blabels, vmin=.1, interpolation='none')\n",
    "ax[0,2].set_title(\"3. CV masks\")\n",
    "\n",
    "ax[1,0].imshow(demo_ds.images.where(~demo_dilate).data, cmap='gray', vmin=vmin, vmax=vmax)\n",
    "ax[1,0].set_title(\"4. Dilate\")\n",
    "\n",
    "ax[1,1].imshow(demo_ds.initial_estimate,  cmap='gray', vmin=vmin, vmax=vmax)\n",
    "ax[1,1].set_title(\"5. Initialize\")\n",
    "\n",
    "ax[1,2].imshow(demo_ds.background_estimate, cmap='gray',  vmin=vmin, vmax=vmax)\n",
    "ax[1,2].set_title(\"6. Smooth\")\n",
    "if savefigs: plt.savefig(figpath+\"landfill_steps.png\")"
   ]
  },
  {
   "cell_type": "code",
   "execution_count": null,
   "id": "cd9caa4a-0eff-4d85-bd66-ef3e049014cb",
   "metadata": {},
   "outputs": [],
   "source": [
    "vmin = pair.images.min().item()\n",
    "vmax = pair.images.max().item()\n",
    "\n",
    "fig, ax= plt.subplots(2,2, figsize=(6.52,7), sharex=True, sharey=True)\n",
    "for a in ax.ravel(): a.axis('off')\n",
    "for i in range(2):\n",
    "    ax[0,i].imshow(nan_mask.data[i], cmap='gray', vmin=vmin, vmax=vmax)\n",
    "    ax[0,i].set_title(f\"Masked Image {i+1}\")\n",
    "    # ax[0,i].imshow(pair_labels[i], cmap=labels_cmap, vmin=0.5)\n",
    "scales = nan_mask.median(list('YX'))\n",
    "scale_im = scales[-1]*((nan_mask/scales).median(list('S')))\n",
    "show = pair.images[-1].squeeze().copy()\n",
    "show = show.where(pair_be.dilated_mask[-1]==0, scale_im)\n",
    "ax[1,0].imshow(show, cmap='gray', vmin=vmin, vmax=vmax )\n",
    "ax[1,0].set_title(\"Image 2 filled with Image 1\")\n",
    "ax[1,1].imshow(init[-1], cmap='gray', vmin=vmin, vmax=vmax)\n",
    "ax[1,1].set_title(\"Fill remaining with KNN average\");\n",
    "plt.savefig(figpath+\"landfill_init.png\", dpi=200)"
   ]
  },
  {
   "cell_type": "code",
   "execution_count": null,
   "id": "dfc208f3-9e45-471b-a6a4-ed40c2eeeb72",
   "metadata": {},
   "outputs": [],
   "source": [
    "fig, ax = plt.subplots(1,2, figsize=(6.52,3))\n",
    "ax[0].set_box_aspect(1)\n",
    "ax[0].plot(true_avgs.values, pred_avgs.values, 'k.', markersize=1)\n",
    "x = [50,140]\n",
    "ax[0].plot(x,x, 'r:', zorder=-1)\n",
    "ax[0].set_xlabel(\"True Intensity (a.u.)\")\n",
    "ax[0].set_ylabel(\"Predicted Intensity (a.u.)\")\n",
    "ax[0].set_title(\"Accuracy of Background Estimation\")\n",
    "ax[0].set_xlim(45, 145)\n",
    "ax[0].set_ylim(45, 145)\n",
    "\n",
    "counts, bins, patches = ax[1].hist(neighbor_rmse, bins=100, density=True, range=(0,4), alpha=0.45, label=f\"Neighborhood \\n(median={neighbor_rmse.median():0.2f})\")\n",
    "ax[1].axvline(neighbor_rmse.median(), linestyle='--', color=colors[0])\n",
    "ax[1].hist(rmse, bins=bins, alpha=0.45, density=True, label=f\"Other FOVs\\n(median={rmse.median():0.2f})\");\n",
    "ax[1].axvline(rmse.median(), linestyle='--', color=colors[1])\n",
    "ax[1].hist(final_rmse, bins=bins, alpha=0.75, density=True,label=f\"Final\\n(median={final_rmse.median():0.2f})\")\n",
    "ax[1].axvline(final_rmse.median(), linestyle='--', color=colors[2])\n",
    "ax[1].legend(loc='upper right')#, bbox_to_anchor=(1.1, 0.99));\n",
    "ax[1].set_xlabel(\"RMSE\")\n",
    "ax[1].set_ylabel(\"Density\")\n",
    "ax[1].set_title(\"Prediction Errors\")\n",
    "if savefigs: plt.savefig(figpath+\"accuracy.png\")"
   ]
  },
  {
   "cell_type": "code",
   "execution_count": null,
   "id": "629ab2fd-aa91-4df3-be47-97cc7c548822",
   "metadata": {},
   "outputs": [],
   "source": [
    "iplt = 2\n",
    "tplt = 2\n",
    "xsel = slice(327, 490)\n",
    "ysel = slice(62, 196)\n",
    "bfshow = scanspeed_ds.images.isel(I=iplt, T=tplt, C=1, Z=7).load().data\n",
    "df = scanspeed_bsub_avgs#.loc[iplt]\n",
    "\n",
    "fig, ax = plt.subplot_mosaic(\"ABC;DDD\", figsize=(6.52,6))\n",
    "ax['A'].imshow(scanspeed_ds['squash'].isel(I=iplt, T=tplt, X=xsel, Y=ysel).data, cmap='gray')\n",
    "ax['A'].axis('off')\n",
    "ax['A'].set_title(\"SRS\")\n",
    "\n",
    "ax['B'].imshow(scanspeed_bsub.isel(S=iplt, X=xsel, Y=ysel).data, cmap='gray')\n",
    "ax['B'].axis('off')\n",
    "ax['B'].set_title(\"SRS Corrected\")\n",
    "\n",
    "ax['C'].imshow(bfshow[(ysel,xsel)], cmap='gray')\n",
    "ax['C'].axis('off')\n",
    "ax['C'].set_title(\"Brightfield\")\n",
    "\n",
    "for x in 'ABC':\n",
    "    ax[x].imshow(d7g_rings[(ysel, xsel)], cmap=blabels, vmin=0.5, interpolation='none')\n",
    "    ax[x].imshow(unl_rings[(ysel, xsel)], cmap=olabels, vmin=0.5, interpolation='none')\n",
    "    \n",
    "hrange = (-10,50)\n",
    "ax['D'].hist(df.loc[df.d7g]['srs'].values, bins=50, range=hrange, histtype='step', density=True, linewidth=2, label=\"D7G Labeled\")\n",
    "ax['D'].hist(df.loc[~df.d7g]['srs'].values, bins=50, range=hrange, histtype='step', density=True, linewidth=2, label='Unlabeled')\n",
    "ax['D'].set_ylabel(\"Fraction of Cells\")\n",
    "ax['D'].set_xlabel(\"SRS Intensity (a.u.)\")\n",
    "ax['D'].legend(loc='upper left')#, bbox_to_anchor=(1.5,0.95))\n",
    "ax['D'].set_title(\"Background Subtracted Cellular SRS Intensities\");\n",
    "if savefigs:\n",
    "    plt.savefig(figpath+\"bsub_srs_fluo_hist_demo.png\")"
   ]
  },
  {
   "cell_type": "code",
   "execution_count": null,
   "id": "cb6be762-c661-4480-8bfb-7e00e08f3b88",
   "metadata": {},
   "outputs": [],
   "source": [
    "fig, ax = plt.subplots()\n",
    "ax.plot(t245, bulk, label='Cell Signal')\n",
    "ax.plot(t245, bkgd_obs, label='Observed Background')\n",
    "ax.plot(t245, (bulk-bkgd)+63, label='Corrected Signal')\n",
    "ax.plot(t245, bkgd, ':',label='Predicted Background')\n",
    "ax.legend()\n",
    "ax.set_ylabel(\"SRS Intensity (a.u.)\")\n",
    "ax.set_xlabel(\"Time (minutes)\")\n",
    "plt.title(\"Accounting for Time-Varying Background\")\n",
    "if savefigs: plt.savefig(figpath+\"time_varying_bkgd_sub.png\")"
   ]
  }
 ],
 "metadata": {
  "kernelspec": {
   "display_name": "Python 3 (ipykernel)",
   "language": "python",
   "name": "python3"
  },
  "language_info": {
   "codemirror_mode": {
    "name": "ipython",
    "version": 3
   },
   "file_extension": ".py",
   "mimetype": "text/x-python",
   "name": "python",
   "nbconvert_exporter": "python",
   "pygments_lexer": "ipython3",
   "version": "3.9.5"
  }
 },
 "nbformat": 4,
 "nbformat_minor": 5
}
