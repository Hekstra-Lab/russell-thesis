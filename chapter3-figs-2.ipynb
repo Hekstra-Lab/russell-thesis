{
 "cells": [
  {
   "cell_type": "code",
   "execution_count": null,
   "id": "32d8a3be-eb9d-4c0a-8a3b-4cd29474a7ac",
   "metadata": {},
   "outputs": [],
   "source": [
    "import numpy as np\n",
    "import pandas as pd\n",
    "from scipy.optimize import curve_fit\n",
    "from scipy.stats import linregress\n",
    "\n",
    "import matplotlib.pyplot as plt\n",
    "%matplotlib widget\n",
    "\n",
    "colors = plt.rcParams['axes.prop_cycle'].by_key()['color']\n",
    "plt.style.use(\"paper\")\n",
    "figpath = \"/Users/johnrussell/Documents/figures/2023-06-figs-paper/\"\n",
    "savefigs=False"
   ]
  },
  {
   "cell_type": "code",
   "execution_count": null,
   "id": "abe30011-0064-493f-94d0-97ea763dea32",
   "metadata": {},
   "outputs": [],
   "source": [
    "def exp_approach(x, a, k):\n",
    "    return a*(1-np.exp(-k*x))#+b\n",
    "\n",
    "def exp_approach2(x, a, k,t):\n",
    "    return a*(1-np.exp(-k*(x-t)))#+b\n",
    "\n",
    "def exp_approach3(x, a, k,b):\n",
    "    return a*(1-np.exp(-k*x))+b\n",
    "\n",
    "def exp_decay(x, a,k):\n",
    "    return a*np.exp(-k*x)#+b"
   ]
  },
  {
   "cell_type": "code",
   "execution_count": null,
   "id": "7ffc43e6-84d0-414d-b6cf-b5d33c0d4b28",
   "metadata": {},
   "outputs": [],
   "source": [
    "def hyp(x, a, b):\n",
    "    return a*x/(b+x)"
   ]
  },
  {
   "cell_type": "code",
   "execution_count": null,
   "id": "2f9df4fc-41d1-440e-a327-339ffb3e35ac",
   "metadata": {},
   "outputs": [],
   "source": [
    "def hyp_decay(x, a, b):\n",
    "    return a/(b+x)"
   ]
  },
  {
   "cell_type": "code",
   "execution_count": null,
   "id": "8c42c74d-35b8-4f78-9bf5-b7a685eba6f6",
   "metadata": {},
   "outputs": [],
   "source": [
    "# x = np.linspace(0, 10, 51)\n",
    "# ye = 5*(1-np.exp(-0.35*x))\n",
    "# yh = 6.5*x/(3+x)\n",
    "# plt.figure()\n",
    "# plt.plot(x, ye)\n",
    "# plt.plot(x, yh)"
   ]
  },
  {
   "cell_type": "code",
   "execution_count": null,
   "id": "9b05d02f-25a6-4098-9e6e-5bff9e3dcbeb",
   "metadata": {},
   "outputs": [],
   "source": [
    "wt_file = \"/Users/johnrussell/Data/2023-05-16/dh229_srs_tables.h5\"\n",
    "dh245_file = \"/Users/johnrussell/Data/2023-05-01-combined/dh245_srs_tables.h5\"\n",
    "dh246_file = \"/Users/johnrussell/Data/2023-05-01-combined/dh246_dox_srs_tables\"\n",
    "dil_file = \"/Users/johnrussell/Data/2023-05-16/dh229_dilution_srs_tables.h5\""
   ]
  },
  {
   "cell_type": "code",
   "execution_count": null,
   "id": "726a96fd-e918-4cab-983f-fa882a14fca2",
   "metadata": {},
   "outputs": [],
   "source": [
    "wt_dt = (pd.read_hdf(\"/Users/johnrussell/Data/2023-05-16/2023-05-16-timestamps.h5\")\n",
    "         .astype({'RelativeTime':'f4'})\n",
    "         .groupby(['S','T']).datetime.min()\n",
    "         .groupby('S').diff()\n",
    "         .mean().total_seconds()/60)"
   ]
  },
  {
   "cell_type": "code",
   "execution_count": null,
   "id": "c0a22152-a8af-4639-89b0-5eff614a1f6e",
   "metadata": {},
   "outputs": [],
   "source": [
    "wt_dim_data = pd.read_hdf(\"/Users/johnrussell/Data/2023-05-16/2023-05-16-dimdata.h5\")\n",
    "vox_area = float(wt_dim_data.loc[0,('Voxel', 'X')])**2"
   ]
  },
  {
   "cell_type": "code",
   "execution_count": null,
   "id": "f85ee5ba-949d-47c9-ba8e-0d9d6fa3150c",
   "metadata": {},
   "outputs": [],
   "source": [
    "wt_area = vox_area*pd.read_hdf(wt_file, key='area')\n",
    "dh245_area = vox_area*pd.read_hdf(dh245_file, key='area')\n",
    "dh246_area = vox_area*pd.read_hdf(dh246_file, key='area')"
   ]
  },
  {
   "cell_type": "code",
   "execution_count": null,
   "id": "e77caa5c-bbeb-4b74-8ea5-950b9316ac3e",
   "metadata": {},
   "outputs": [],
   "source": [
    "# wt_area[t_plt].mean()/vox_area\n",
    "\n",
    "# dh245_area[t_plt].mean()/vox_area- wt_area[t_plt].mean()/vox_area\n",
    "\n",
    "# wt_area[t_plt].mean() - dh245_area[t_plt].mean()"
   ]
  },
  {
   "cell_type": "code",
   "execution_count": null,
   "id": "c196d5b7-24c7-443a-a38a-f87b05affe1d",
   "metadata": {},
   "outputs": [],
   "source": [
    "plt.figure()\n",
    "t_plt= 20 \n",
    "a = wt_area[t_plt].dropna().values\n",
    "counts, bins, patches = plt.hist(a, bins=46, range=(0,45), density=True, alpha=0.65, label=f\"WT (N={a.shape[0]})\")\n",
    "a = dh245_area[t_plt].dropna().values\n",
    "_ = plt.hist(dh245_area.values[:,t_plt], bins=bins, density=True, alpha=0.65, label=f\"HXT2 Only (N={a.shape[0]})\")\n",
    "# _ = plt.hist(dh246_area.values[:,t_plt], bins=bins, density=True, alpha=0.65, label=\"HXT5 Only\")\n",
    "plt.legend()\n",
    "plt.title(\"Cell Areas\")\n",
    "plt.xlabel(\"Area $\\\\left(\\mu m^2\\\\right)$\")\n",
    "plt.ylabel(\"Fraction of cells\")\n",
    "if savefigs: plt.savefig(figpath+\"area_comparison.png\")"
   ]
  },
  {
   "cell_type": "code",
   "execution_count": null,
   "id": "88da09a5-4687-4354-b5da-62cc6c0d850e",
   "metadata": {},
   "outputs": [],
   "source": [
    "wt_traces = pd.read_hdf(wt_file, key='recon')\n",
    "dh245_traces = pd.read_hdf(dh245_file, key='recon')\n",
    "dh246_traces = pd.read_hdf(dh246_file, key='recon')\n",
    "dil_traces = pd.read_hdf(dil_file, key='recon')"
   ]
  },
  {
   "cell_type": "code",
   "execution_count": null,
   "id": "80671237-74ce-4346-9e9b-51a2d64d6715",
   "metadata": {},
   "outputs": [],
   "source": [
    "bulk_wt = wt_traces.mean()\n",
    "bulk_dh245 = dh245_traces.mean()\n",
    "bulk_dh246 = dh246_traces.mean()\n",
    "bulk_dil = dil_traces.mean()"
   ]
  },
  {
   "cell_type": "code",
   "execution_count": null,
   "id": "0449157e-a98f-4589-9c60-29847497909c",
   "metadata": {},
   "outputs": [],
   "source": [
    "t_wt = np.arange(wt_traces.shape[1])*wt_dt#+28.75"
   ]
  },
  {
   "cell_type": "code",
   "execution_count": null,
   "id": "b2583c82-442d-4ca9-91b4-d64d19901367",
   "metadata": {},
   "outputs": [],
   "source": [
    "sigma = wt_traces.sem().values\n",
    "# y_dil = keep_dil.mean().values\n",
    "\n",
    "y = bulk_wt.values\n",
    "y_offset = y[0]\n",
    "y = y-y_offset\n",
    "fit_e = curve_fit(exp_approach, t_wt, y, sigma=sigma, p0=[20, 0.05], bounds=(0,np.inf))\n",
    "fit_h= curve_fit(hyp, t_wt, y, sigma=sigma, p0=[20, 10], bounds=(0,np.inf))\n",
    "\n",
    "a,k = fit_e[0]\n",
    "xplt = np.linspace(0, 520, 250)\n",
    "plt.figure()\n",
    "plt.plot(xplt, exp_approach(xplt, *fit_e[0])+y_offset, zorder=0, linewidth=3, alpha=0.75)\n",
    "plt.plot(xplt, hyp(xplt, *fit_h[0])+y_offset, zorder=0, linewidth=3, alpha=0.75)\n",
    "# plt.plot(x, 26*x/(10+x))\n",
    "plt.errorbar(t_wt, bulk_wt.values, yerr=sigma, fmt='k.',capsize=2, markersize=1.5, zorder=-1)\n",
    "plt.title(f\"Wild Type: y={a:0.3f}(1-exp(-{k:0.3f}x))\")\n",
    "if savefigs:\n",
    "    plt.savefig(fig_path+\"bulk_fit.png\")"
   ]
  },
  {
   "cell_type": "code",
   "execution_count": null,
   "id": "6fcd86a3-5944-4930-88cc-73c17be2bdc7",
   "metadata": {},
   "outputs": [],
   "source": [
    "rmse_e = np.sqrt(((y- exp_approach(t_wt, *fit_e[0]))**2).mean())\n",
    "rmse_h = np.sqrt(((y - hyp(t_wt, *fit_h[0]))**2).mean())"
   ]
  },
  {
   "cell_type": "code",
   "execution_count": null,
   "id": "d3741ae2-e682-4d6a-842f-47c21e08fb2b",
   "metadata": {},
   "outputs": [],
   "source": [
    "print(f\"{rmse_e=:0.4g}\")\n",
    "print(f\"{rmse_h=:0.4g}\")"
   ]
  },
  {
   "cell_type": "code",
   "execution_count": null,
   "id": "44ff2b56-c74d-45bb-baa2-c7df966fdd72",
   "metadata": {},
   "outputs": [],
   "source": [
    "plt.figure()\n",
    "for i,df in enumerate([wt_traces, dh245_traces, dh246_traces]):\n",
    "    y = df.mean().values\n",
    "    y_offset = y[0]\n",
    "    y = y-y_offset\n",
    "    sy = df.sem().values\n",
    "    fit = curve_fit(exp_approach, t_wt, y, sigma=sy, p0=[20, 0.05], bounds=(0,np.inf))\n",
    "    # fit1 = curve_fit(hyp, t_wt, bulk_wt.values, sigma=sigma, p0=[20, 10, 10], bounds=(0,np.inf))\n",
    "    plt.errorbar(t_wt, y+y_offset, yerr=sy, fmt='.', capsize=3)\n",
    "    plt.plot(xplt, exp_approach(xplt, *fit[0])+y_offset, color=colors[i])\n",
    "plt.title(\"exponential fits\")"
   ]
  },
  {
   "cell_type": "code",
   "execution_count": null,
   "id": "bb6df4e6-830c-4d4a-95b4-28132c4c02d4",
   "metadata": {},
   "outputs": [],
   "source": [
    "plt.figure()\n",
    "for i,df in enumerate([wt_traces, dh245_traces]):\n",
    "    y = df.mean().values\n",
    "    y_offset = y[0]\n",
    "    y = y-y_offset\n",
    "    sy = df.sem().values\n",
    "    fit_e = curve_fit(exp_approach, t_wt, y, sigma=sy, p0=[20, 0.05], bounds=(0,np.inf))\n",
    "    fit_h = curve_fit(hyp, t_wt, y, sigma=sy, p0=[1000, 100], bounds=(0,np.inf))\n",
    "    rmse_e = np.sqrt(((y - exp_approach(t_wt, *fit_e[0]))**2).mean())\n",
    "    rmse_h = np.sqrt(((y - hyp(t_wt, *fit_h[0]))**2).mean())\n",
    "    print(i, f\"{rmse_e=:0.4f}\",  f\"{rmse_h=:0.4f}\")\n",
    "    plt.plot(t_wt, y, '.')\n",
    "    plt.plot(xplt, hyp(xplt, *fit_h[0]), color=colors[i])\n",
    "    plt.plot(xplt, exp_approach(xplt, *fit_e[0]), \":\", color=colors[i])"
   ]
  },
  {
   "cell_type": "code",
   "execution_count": null,
   "id": "d1bc1739-c40c-47bd-837d-bb18ef6cc5ec",
   "metadata": {},
   "outputs": [],
   "source": [
    "df = dh245_traces\n",
    "y = df.mean().values\n",
    "sy = df.sem().values\n",
    "plt.figure()\n",
    "plt.errorbar(t_wt, y, yerr=sy, fmt='k.', capsize=3)\n",
    "y_offset = y[0]\n",
    "fit_e = curve_fit(exp_approach, t_wt[1:], y[1:]-y_offset, p0=[20, 0.05], bounds=(0,np.inf))\n",
    "fit_h = curve_fit(hyp, t_wt[1:], y[1:]-y_offset, p0=[1000, 100], bounds=(0,np.inf))\n",
    "\n",
    "rmse_e = np.sqrt(((y-y_offset - exp_approach(t_wt, *fit_e[0]))**2).mean())\n",
    "rmse_h = np.sqrt(((y-y_offset - hyp(t_wt, *fit_h[0]))**2).mean())\n",
    "plt.plot(xplt, exp_approach(xplt, *fit_e[0])+y_offset, '--',\n",
    "         color=colors[0], alpha=0.7, label=f'Exponential fit: y={fit_e[0][0]:0.3g} (1-exp[-{fit_e[0][1]:0.3g}t]\\n RMSE={rmse_e:0.3g}')\n",
    "plt.plot(xplt, hyp(xplt, *fit_h[0])+y_offset, color=colors[0], alpha=0.7,\n",
    "         label=f'Hyperbolic fit: y={fit_h[0][0]:0.3g}t/ ({fit_h[0][1]:0.3g}+t)\\n RMSE={rmse_h:0.3g}')\n",
    "plt.title(\"Different fits to HXT2-only Net Glucose Uptake\")\n",
    "plt.xlabel(\"Time (minutes)\")\n",
    "plt.ylabel(\"SRS Intensity (a.u.)\")\n",
    "plt.legend()\n",
    "if savefigs: plt.savefig(figpath+\"fit_comparison.png\")"
   ]
  },
  {
   "cell_type": "code",
   "execution_count": null,
   "id": "a430e1b3-c86b-4b99-8114-7b9480aaa93c",
   "metadata": {},
   "outputs": [],
   "source": [
    "14.5*0.00514"
   ]
  },
  {
   "cell_type": "code",
   "execution_count": null,
   "id": "6a46daca-d56c-4238-a16b-0f8cc4bf27e1",
   "metadata": {},
   "outputs": [],
   "source": [
    "19.9/230"
   ]
  },
  {
   "cell_type": "code",
   "execution_count": null,
   "id": "9e689167-f0ad-4f41-8227-adc2878fdb22",
   "metadata": {},
   "outputs": [],
   "source": [
    "(rmse_e-rmse_h)/rmse_e"
   ]
  },
  {
   "cell_type": "code",
   "execution_count": null,
   "id": "00be19f6-ee3e-47a0-a599-c88db4ebc201",
   "metadata": {},
   "outputs": [],
   "source": [
    "plt.figure()\n",
    "for i,df in enumerate([wt_traces, dil_traces]):\n",
    "    y = df.mean().values[:36]\n",
    "    plt.plot(t_wt, y, '.')\n",
    "    y0 = y.max()+3\n",
    "    #y_offset = y[int(-1*i)]\n",
    "    # y = y-y_offset\n",
    "    #sy = df.sem().values[:36]\n",
    "    y = -1*y0*(i-1)+(2*i-1)*y\n",
    "    fit_l = linregress(t_wt, np.log(y))\n",
    "    if i==0:\n",
    "        # y = 25 - y\n",
    "        fh = hyp\n",
    "        fe = exp_approach\n",
    "    if i==1:\n",
    "        fit_l = linregress(t_wt, np.log(y))\n",
    "        fh = hyp_decay\n",
    "        fe = exp_decay\n",
    "        \n",
    "    fit_e = curve_fit(fe, t_wt, y, sigma=sy, p0=[20, 0.05], bounds=(0,np.inf))\n",
    "    # fit_h = curve_fit(fh, t_wt, y, sigma=sy, p0=[1000, 100], bounds=(0,np.inf))\n",
    "    # plt.plot(xplt, fh(xplt, *fit_h[0])+y_offset, color=colors[i])\n",
    "    # plt.plot(xplt, fe(xplt, *fit_e[0])+y_offset, \":\", color=colors[i])\n",
    "    plt.plot(xplt, -1*y0*(i-1)+(2*i-1)*np.exp(fit_l.intercept+fit_l.slope*xplt), color=colors[i])\n",
    "    # rmse_e = np.sqrt(((y - fe(t_wt, *fit_e[0]))**2).mean())\n",
    "    # rmse_h = np.sqrt(((y - fh(t_wt, *fit_h[0]))**2).mean())\n",
    "    # print(i, f\"{rmse_e=:0.4f}\",  f\"{rmse_h=:0.4f}\")\n",
    "    print(i, f\"{fit_l.slope:0.3g}\",f\"{np.exp(fit_l.intercept):0.3g}\")\n",
    "\n",
    "# plt.semilogy()"
   ]
  },
  {
   "cell_type": "code",
   "execution_count": null,
   "id": "5e0abb9d-25e0-472f-820e-37695528e178",
   "metadata": {},
   "outputs": [],
   "source": [
    "plt.figure()\n",
    "fits = []\n",
    "for i,df in enumerate([wt_traces, dh245_traces]):\n",
    "    scaled = ((df-df[0].mean()))\n",
    "    y = scaled.mean().values\n",
    "    sy = scaled.sem().values\n",
    "    fit = curve_fit(exp_approach, t_wt, y, sigma=sigma, p0=[20, 0.05], bounds=(0,np.inf))\n",
    "    fits.append(fit)\n",
    "    name = [\"WT\", \"HXT2-only\"]\n",
    "    plt.plot(xplt, exp_approach(xplt, *fit[0]), color=colors[i], label=name[i]+f\": {fit[0][0]:0.3g} (1-exp[-{fit[0][1]:0.3g}t])\")\n",
    "    # fit1 = curve_fit(hyp, t_wt, bulk_wt.values, sigma=sigma, p0=[20, 10, 10], bounds=(0,np.inf))\n",
    "    plt.errorbar(t_wt, y, yerr=sy, fmt='.', capsize=3, color=colors[i])\n",
    "plt.legend()\n",
    "plt.title(\"HXT2-only glucose uptake vs WT\")\n",
    "plt.xlabel(\"Time (minutes)\")\n",
    "plt.ylabel(\"SRS (a.u.)\")\n",
    "plt.savefig(figpath +\"hxt2_vs_wt.png\")"
   ]
  },
  {
   "cell_type": "code",
   "execution_count": null,
   "id": "34c920fb-0302-4201-84c4-3502cf0e298f",
   "metadata": {},
   "outputs": [],
   "source": [
    "np.prod(fits[0][0])"
   ]
  },
  {
   "cell_type": "code",
   "execution_count": null,
   "id": "6ab25ebf-0090-4122-9676-311dd7586e2a",
   "metadata": {},
   "outputs": [],
   "source": [
    "np.prod(fits[1][0])"
   ]
  },
  {
   "cell_type": "code",
   "execution_count": null,
   "id": "bf8b0d5a-d2d8-4798-8140-f055cb39f0f2",
   "metadata": {},
   "outputs": [],
   "source": [
    "plt.figure()\n",
    "plt.plot(t_wt, (~(dh245_traces.isna())).sum())"
   ]
  },
  {
   "cell_type": "code",
   "execution_count": null,
   "id": "2dba725d-3602-482f-b908-1917565af69a",
   "metadata": {},
   "outputs": [],
   "source": [
    "22.9*.0038"
   ]
  },
  {
   "cell_type": "code",
   "execution_count": null,
   "id": "229e6d10-cdf3-4ea6-8b65-f5c09bf51d61",
   "metadata": {},
   "outputs": [],
   "source": [
    "wt_params = pd.read_hdf(wt_file, key='params')\n",
    "dh245_params = pd.read_hdf(dh245_file, key='params')\n",
    "dil_params = pd.read_hdf(dil_file, key='params')"
   ]
  },
  {
   "cell_type": "code",
   "execution_count": null,
   "id": "c1d24b85-d6b1-4165-bc40-12027f639619",
   "metadata": {},
   "outputs": [],
   "source": [
    "wt_params['p'] = wt_params['a']*wt_params['k']\n",
    "dh245_params['p'] = dh245_params['a']*dh245_params['k']\n",
    "dil_params['p'] = dil_params['a']*dil_params['k']"
   ]
  },
  {
   "cell_type": "code",
   "execution_count": null,
   "id": "57995675-b9f7-4937-9d41-d5181f36042e",
   "metadata": {},
   "outputs": [],
   "source": [
    "ranges = {'k':(0,0.075), 'a':(0,75)}#, 'p':(0,1.5)}"
   ]
  },
  {
   "cell_type": "code",
   "execution_count": null,
   "id": "0ba6efd2-3bb5-47ea-94ba-09fe2fdb1710",
   "metadata": {},
   "outputs": [],
   "source": [
    "fig, ax = plt.subplots(1,2, figsize=(6.52, 3.5))\n",
    "for i,(x,hrng) in enumerate(ranges.items()):\n",
    "    counts, bins, patches = ax[i].hist(wt_params[x], bins=50, range=hrng, density=True, alpha=0.6)\n",
    "    # ax[i].hist(dh245_params[x], bins=bins, density=True, alpha=0.6);\n",
    "    ax[i].hist(dil_params[x], bins=bins, density=True, alpha=0.6);\n",
    "    ax[i].set_xlabel(x);"
   ]
  },
  {
   "cell_type": "code",
   "execution_count": null,
   "id": "00b6f8d1-a910-4451-bb09-a170f5bd3882",
   "metadata": {},
   "outputs": [],
   "source": [
    "wt_count = pd.read_hdf(wt_file, key='count')\n",
    "dil_count = pd.read_hdf(dil_file, key='count')"
   ]
  },
  {
   "cell_type": "code",
   "execution_count": null,
   "id": "56ca9a67-78da-4c8c-8790-d33f1ffde084",
   "metadata": {},
   "outputs": [],
   "source": [
    "plt.figure()\n",
    "lrs=[]\n",
    "for i,a in enumerate([wt_count]):#, dil_count]):\n",
    "    # count = a.stack('T').loc[a.stack('T')>0].groupby('T').count().values[:36]\n",
    "    y = a.values[:36]\n",
    "    lr = linregress(t_wt, np.log(y))\n",
    "    lrs.append(lr)\n",
    "    s = ['Deuterated', 'Unlabeled'][i]\n",
    "    plt.plot(t_wt, y, '.', label=f\"Growth rate = {lr.slope:0.4g}\"+\" min$^{-1}$\", color=colors[i])\n",
    "    # plt.plot(xplt, 2**(lr.intercept+lr.slope*xplt), color=colors[i], alpha=0.6)\n",
    "    plt.plot(xplt, np.exp((lr.intercept+lr.slope*xplt)), color=colors[i], alpha=0.6)\n",
    "plt.semilogy()\n",
    "plt.title(\"Effect of Deuterated Medium on Growth\")\n",
    "plt.xlabel(\"Time (minutes)\")\n",
    "plt.ylabel(\"Number of cells\")\n",
    "plt.legend();\n",
    "if savefigs: plt.savefig(figpath+\"wt_growth_rate.png\")"
   ]
  },
  {
   "cell_type": "code",
   "execution_count": null,
   "id": "152d8e3c-c73b-4230-9e4d-c54058bcef35",
   "metadata": {},
   "outputs": [],
   "source": [
    "from tqdm.autonotebook import tqdm"
   ]
  },
  {
   "cell_type": "code",
   "execution_count": null,
   "id": "b1a40219-274e-4bdf-b294-71e15289e7e5",
   "metadata": {},
   "outputs": [],
   "source": [
    "def fit_exp(x, y, p0):\n",
    "    try:\n",
    "        p, cov = curve_fit(exp_approach, x, y, p0=p0, bounds=(0,np.inf), absolute_sigma=True)\n",
    "        out = np.array([*p, *np.diag(cov)])\n",
    "    except RuntimeError:\n",
    "        out = np.full(2*len(p0), np.nan)\n",
    "    return out"
   ]
  },
  {
   "cell_type": "code",
   "execution_count": null,
   "id": "fbc50cde-6f5b-41a2-8f3b-2b9ec2f6d76f",
   "metadata": {},
   "outputs": [],
   "source": [
    "# slower to use dask delayed by ~50%\n",
    "df = pd.DataFrame(wt_traces)\n",
    "t = t_wt\n",
    "\n",
    "wt_params = pd.DataFrame(index=df.index, columns=['a','k', 'sig_a', 'sig_k','x0','y0'], dtype='f4')\n",
    "for i, (idx, s) in enumerate(tqdm(df.iterrows(), total=len(df))):\n",
    "    y = s.values\n",
    "    mask = ~np.isnan(y)\n",
    "    y = y[mask]\n",
    "    y_offset = y[0]\n",
    "    y = y-y_offset\n",
    "    x = t_wt[mask]\n",
    "    x_offset = x[0]\n",
    "    x = x - x_offset\n",
    "    out = fit_exp(x,y,fit[0])\n",
    "    wt_params.loc[idx] = [*out, x_offset, y_offset]\n",
    "wt_params = wt_params.dropna()   "
   ]
  },
  {
   "cell_type": "code",
   "execution_count": null,
   "id": "e0d3895f-4b33-4d26-8b1d-19de1c227d28",
   "metadata": {},
   "outputs": [],
   "source": [
    "# slower to use dask delayed by ~50%\n",
    "df = pd.DataFrame(dh245_traces)\n",
    "t = t_wt\n",
    "\n",
    "dh245_params = pd.DataFrame(index=df.index, columns=['a','k', 'sig_a', 'sig_k','x0','y0'], dtype='f4')\n",
    "for i, (idx, s) in enumerate(tqdm(df.iterrows(), total=len(df))):\n",
    "    y = s.values\n",
    "    mask = ~np.isnan(y)\n",
    "    y = y[mask]\n",
    "    y_offset = y[0]\n",
    "    y = y-y_offset\n",
    "    x = t_wt[mask]\n",
    "    x_offset = x[0]\n",
    "    x = x - x_offset\n",
    "    out = fit_exp(x,y,fit[0])\n",
    "    dh245_params.loc[idx] = [*out, x_offset, y_offset]\n",
    "dh245_params = dh245_params.dropna()   "
   ]
  },
  {
   "cell_type": "code",
   "execution_count": null,
   "id": "50b66042-6801-4c8f-9fa2-aa8ac61f0d82",
   "metadata": {},
   "outputs": [],
   "source": [
    "df = pd.DataFrame(wt_params)\n",
    "pcts = np.linspace(0,1, 101)\n",
    "qs = df.quantile(pcts)\n",
    "\n",
    "sig_k_sel = df['sig_k'].between(*qs.loc[[0.02, 0.98],'sig_k'])#.between(1e-16, 1e4)\n",
    "sig_a_sel = df['sig_a'].between(*qs.loc[[0.02, 0.98],'sig_a'])#.between(1e-16,1e5)#.between(1e-16,10)\n",
    "\n",
    "fig, ax = plt.subplots(1,2, figsize=(6.52, 2.5))\n",
    "df = df.loc[sig_k_sel&sig_a_sel]\n",
    "hranges = ([0,0.05], [0,50])\n",
    "for i,x in enumerate('ka'):\n",
    "    # w = 1./df[f'sig_{x}']\n",
    "    # w /= w.sum()\n",
    "    \n",
    "    counts, bins, patches = ax[i].hist(df[x].values, bins=100, range=hranges[i])\n",
    "    print(x, bins[np.argmax(counts)], df[x].mean())\n",
    "    ax[i].axvline(df[x].median(), color='k', alpha=0.5, label=f'Median = {df[x].median():0.3g}')\n",
    "    ax[i].legend()\n",
    "ax[0].set_xlabel(r\"Uptake Rate  $\\left(min^{-1}\\right)$\")\n",
    "ax[1].set_xlabel(r\"Amplitude $\\left( a.u. \\right)$\")\n",
    "\n",
    "ax[0].set_ylabel(\"Cell counts\")\n",
    "\n",
    "fig.suptitle(\"Estimated Single-Cell Metabolic Parameters\")\n",
    "# if savefigs:\n",
    "#     plt.savefig(fig_path+\"sc_params.png\")"
   ]
  },
  {
   "cell_type": "code",
   "execution_count": null,
   "id": "22c091de-5f1b-42db-a7ce-945b8bdc61db",
   "metadata": {},
   "outputs": [],
   "source": [
    "df = pd.DataFrame(dh245_params)\n",
    "pcts = np.linspace(0,1, 101)\n",
    "qs = df.quantile(pcts)\n",
    "\n",
    "sig_k_sel = df['sig_k'].between(*qs.loc[[0.02, 0.98],'sig_k'])#.between(1e-16, 1e4)\n",
    "sig_a_sel = df['sig_a'].between(*qs.loc[[0.02, 0.98],'sig_a'])#.between(1e-16,1e5)#.between(1e-16,10)\n",
    "\n",
    "fig, ax = plt.subplots(1,2, figsize=(6.52, 2.5))\n",
    "df = df.loc[sig_k_sel&sig_a_sel]\n",
    "hranges = ([0,0.05], [0,50])\n",
    "for i,x in enumerate('ka'):\n",
    "    \n",
    "    counts, bins, patches = ax[i].hist(df[x].values, bins=100, range=hranges[i])\n",
    "    print(x, bins[np.argmax(counts)], df[x].mean())\n",
    "    ax[i].axvline(df[x].median(), color='k', alpha=0.5, label=f'Median = {df[x].median():0.3g}')\n",
    "    ax[i].legend()\n",
    "ax[0].set_xlabel(r\"Uptake Rate  $\\left(min^{-1}\\right)$\")\n",
    "ax[1].set_xlabel(r\"Amplitude $\\left( a.u. \\right)$\")\n",
    "\n",
    "ax[0].set_ylabel(\"Cell counts\")\n",
    "\n",
    "fig.suptitle(\"HXT2-Only Single-Cell Metabolic Parameters\")\n",
    "if savefigs:\n",
    "    plt.savefig(figpath+\"dh245_sc_params.png\")"
   ]
  },
  {
   "cell_type": "code",
   "execution_count": null,
   "id": "3352056b-d0e9-4db6-92d6-eec13e85d329",
   "metadata": {},
   "outputs": [],
   "source": [
    "plt.figure()\n",
    "for i,df in enumerate([wt_params, dh245_params]):\n",
    "    pcts = np.linspace(0,1, 101)\n",
    "    qs = df.quantile(pcts)\n",
    "\n",
    "    sig_k_sel = df['sig_k'].between(*qs.loc[[0.02, 0.98],'sig_k'])#.between(1e-16, 1e4)\n",
    "    sig_a_sel = df['sig_a'].between(*qs.loc[[0.02, 0.98],'sig_a'])#.between(1e-16,1e5)#.between(1e-16,10)\n",
    "\n",
    "    df = df.loc[sig_k_sel&sig_a_sel]\n",
    "    l = ['WT', 'HXT2-Only']\n",
    "    x = df['a']*df['k']\n",
    "    plt.hist((x).values, range=(0,0.5),bins=41, density=True, alpha=0.6, label=f\"{l[i]}: median = {x.median():0.3f}\")\n",
    "    # plt.hist((x).values, range=(0,0.5),bins=41, density=True, alpha=0.6, label=f\"{l[i]} - median = {x.median():0.3f}\")\n",
    "plt.legend()"
   ]
  },
  {
   "cell_type": "code",
   "execution_count": null,
   "id": "a46e7c3b-d8c5-4dd1-9646-afb36902d963",
   "metadata": {},
   "outputs": [],
   "source": [
    "first = wt_traces.stack('T').reset_index('T').groupby(['CellID', 'S']).first('T').set_index('T', append=True)"
   ]
  },
  {
   "cell_type": "code",
   "execution_count": null,
   "id": "4c16e0a7-22e3-4180-8745-b59768ae3ed8",
   "metadata": {},
   "outputs": [],
   "source": [
    "params_by_age = df.join(first.reset_index('T')['T']).groupby('T').mean()\n",
    "params_by_age_sem = df.join(first.reset_index('T')['T']).groupby('T').sem()"
   ]
  },
  {
   "cell_type": "code",
   "execution_count": null,
   "id": "539ea92d-1aa5-4a08-a84a-8e80276feee6",
   "metadata": {},
   "outputs": [],
   "source": [
    "df = pd.DataFrame(wt_params)\n",
    "pcts = np.linspace(0,1, 101)\n",
    "qs = df.quantile(pcts)\n",
    "\n",
    "sig_k_sel = df['sig_k'].between(*qs.loc[[0.02, 0.98],'sig_k'])#.between(1e-16, 1e4)\n",
    "sig_a_sel = df['sig_a'].between(*qs.loc[[0.02, 0.98],'sig_a'])#.between(1e-16,1e5)#.between(1e-16,10)\n",
    "\n",
    "df = df.loc[sig_k_sel&sig_a_sel]\n",
    "df = df.loc[df.k>1e-6]\n",
    "\n",
    "first = wt_traces.stack('T').reset_index('T').dropna().groupby(['S','CellID']).first().set_index('T',append=True)\n",
    "params_by_age = df.join(first.reset_index('T')['T']).groupby('T').mean()\n",
    "params_by_age_sem = df.join(first.reset_index('T')['T']).groupby('T').sem()\n",
    "\n",
    "fig, ax = plt.subplots(1,2, figsize=(6.52,3))\n",
    "ax[0].plot(df['k'], np.sqrt(df['sig_k']), 'k.', markersize=1)\n",
    "xlog = np.logspace(np.log10(df['k'].min()), np.log10(df['k'].max()))\n",
    "for m in np.logspace(-3, 0, 4, base=2 ):# [0.05,0.1, 0.5, 1]: #np.logspace(-1.5,1,5):\n",
    "\n",
    "    y = m*xlog\n",
    "    x = xlog[y>np.sqrt(df['sig_k'].min())]\n",
    "    y = y[y>np.sqrt(df['sig_k'].min())]\n",
    "    ax[0].plot(x,y, alpha=0.6, label=\"$\\sigma_k =$\"+f\"{m:0.2f} k\")\n",
    "ax[0].set_xlabel(\"k\")\n",
    "ax[0].set_ylabel(\"$\\sigma_k$\")\n",
    "ax[0].loglog()\n",
    "ax[0].set_title(\"Larger Errors with Larger $k$\")\n",
    "ax[0].legend()\n",
    "           \n",
    "ax[1].errorbar(t_wt[:22], params_by_age['k'], params_by_age_sem['k'], fmt='o', capsize=3)\n",
    "ax[1].set_ylabel(\"k\")\n",
    "ax[1].set_xlabel(\"Time of birth\")\n",
    "ax[1].set_title(\"Larger k values with younger cells\")\n",
    "# plt.savefig(figpath+\"rate_errors.png\")"
   ]
  },
  {
   "cell_type": "code",
   "execution_count": null,
   "id": "aff67127-6919-4352-9c66-85670e42b046",
   "metadata": {},
   "outputs": [],
   "source": [
    "sk_sel = wt_params.loc[(np.sqrt(wt_params['sig_k'])/wt_params['k'])<0.25]"
   ]
  },
  {
   "cell_type": "code",
   "execution_count": null,
   "id": "3f08fd6f-7bdd-44b6-bd5b-99faef897d9e",
   "metadata": {},
   "outputs": [],
   "source": [
    "sk_sel.median()"
   ]
  },
  {
   "cell_type": "code",
   "execution_count": null,
   "id": "87f21914-3af3-44f5-bc05-2ae571302a8e",
   "metadata": {},
   "outputs": [],
   "source": [
    "first = wt_traces.stack('T').reset_index('T').dropna().groupby(['S','CellID']).first().set_index('T',append=True)\n",
    "\n",
    "params_by_age = df.join(first.reset_index('T')['T']).groupby('T').mean()\n",
    "params_by_age_sem = df.join(first.reset_index('T')['T']).groupby('T').sem()"
   ]
  },
  {
   "cell_type": "code",
   "execution_count": null,
   "id": "fcb5a302-8246-4b20-a2a3-3a2bab7f0d82",
   "metadata": {},
   "outputs": [],
   "source": [
    "pcts = np.linspace(0,1, 101)\n",
    "qs = wt_params.quantile(pcts)"
   ]
  },
  {
   "cell_type": "code",
   "execution_count": null,
   "id": "3b6e6300-36d5-4433-9f3d-cf784ec404dc",
   "metadata": {},
   "outputs": [],
   "source": [
    "plt.figure()\n",
    "tc = 3\n",
    "plt.plot(pcts, qs.sig_a.values, '-o', markersize=2)\n",
    "plt.plot(pcts, qs.sig_k.values,'-o', markersize=2)\n",
    "plt.semilogy();"
   ]
  },
  {
   "cell_type": "code",
   "execution_count": null,
   "id": "5e09f3dd-6d69-4a42-a728-3ab8613c4bc1",
   "metadata": {},
   "outputs": [],
   "source": [
    "plt.figure()\n",
    "a = wt_count\n",
    "y = a.values\n",
    "lr = linregress(t_wt, np.log(y))\n",
    "lr2 = linregress(t_wt, np.log2(y))\n",
    "plt.plot(t_wt, y, '.', label=f\"Growth rate $\\gamma$ = {lr.slope:0.4g} \"+\"min$^{-1}$\", color=colors[0])\n",
    "plt.plot(xplt, np.exp((lr.intercept+lr.slope*xplt)), color=colors[0], alpha=0.6)\n",
    "# plt.plot(xplt, np.exp(np.log(2)*(lr2.intercept+lr2.slope*xplt)), color=colors[1], alpha=0.6, label=f\"Growth rate: µ = {lr2.slope:0.4g}\")\n",
    "plt.semilogy()\n",
    "plt.title(\"Wild Type Population Growth\")\n",
    "plt.xlabel(\"Time (minutes)\")\n",
    "plt.ylabel(\"Number of cells (log scale)\")\n",
    "plt.legend();\n",
    "if savefigs: plt.savefig(figpath+\"wt_growth_rate.png\")"
   ]
  },
  {
   "cell_type": "code",
   "execution_count": null,
   "id": "5db429a7-a8b3-402b-8638-6c334366ed38",
   "metadata": {},
   "outputs": [],
   "source": [
    "def fit_exp_decay(x, y, p0):\n",
    "    try:\n",
    "        p, cov = curve_fit(exp_decay, x, y, p0=p0, bounds=(0,np.inf), absolute_sigma=True)\n",
    "        out = np.array([*p, *np.diag(cov)])\n",
    "    except RuntimeError:\n",
    "        out = np.full(2*len(p0), np.nan)\n",
    "    return out"
   ]
  },
  {
   "cell_type": "code",
   "execution_count": null,
   "id": "986b5288-3e97-4130-b49e-ccda14c74db7",
   "metadata": {},
   "outputs": [],
   "source": [
    "## Single Cell Analysis\n",
    "\n",
    "df = dil_traces.iloc[:,:36]\n",
    "t = t_wt[:36]\n",
    "\n",
    "dil_params = pd.DataFrame(index=df.index, columns=['a','k','sig_a', 'sig_k','x0', 'y0'], dtype='f4')\n",
    "\n",
    "for i, (idx, s) in enumerate(tqdm(df.iterrows(), total=len(df))):\n",
    "    y = s.values\n",
    "    mask = ~np.isnan(y)\n",
    "    y = y[mask]\n",
    "    y_offset = y[-1]\n",
    "    y = y#-y_offset\n",
    "    x = t[mask]\n",
    "    x_offset = x[0]\n",
    "    x = x-x_offset\n",
    "    out = fit_exp_decay(x,y,fit[0])\n",
    "    p = [*out, x_offset, y_offset]\n",
    "    dil_params.loc[idx] = p\n",
    "\n",
    "# unconverged = all_srs_params.loc[all_srs_params.isna().any(axis=1)].index\n",
    "# dil_params = dil_params.dropna()"
   ]
  },
  {
   "cell_type": "code",
   "execution_count": null,
   "id": "beb1a824-0f7e-47e2-a679-3631d7e07b43",
   "metadata": {},
   "outputs": [],
   "source": [
    "# Single Cell Analysis\n",
    "\n",
    "df = dil_traces.iloc[:,:36]\n",
    "t = t_wt[:36]\n",
    "dil_params_lin = pd.DataFrame(index=df.index, columns=['a','k','sig_a', 'sig_k'], dtype='f4')\n",
    "\n",
    "for i, (idx, s) in enumerate(tqdm(df.iterrows(), total=len(df))):\n",
    "    y = s.values\n",
    "    # mask = ~np.isnan(y)\n",
    "    mask = y>0\n",
    "    y = y[mask]\n",
    "    x = t[mask]\n",
    "    lr = linregress(x, np.log(y))\n",
    "    p = [np.exp(lr.intercept), lr.slope, lr.intercept_stderr, lr.stderr]\n",
    "    dil_params_lin.loc[idx] = p\n",
    "\n",
    "# unconverged = all_srs_params_lin.loc[all_srs_params.isna().any(axis=1)].index\n",
    "dil_params_lin = dil_params_lin.dropna()"
   ]
  },
  {
   "cell_type": "code",
   "execution_count": null,
   "id": "0cb4e328-c72d-400c-b4ad-eb8c65f12a4c",
   "metadata": {},
   "outputs": [],
   "source": [
    "fig, ax = plt.subplots(3,2, figsize=(6.52, 5))\n",
    "\n",
    "for n, df in enumerate([dil_params, dil_params_lin, wt_params]):\n",
    "    sig_k_sel = df['sig_k'].between(1e-16, 1e5)#*qs.loc[[0.02, 0.99],'sig_k'])\n",
    "    sig_a_sel = df['sig_a'].between(1e-16,1e5)\n",
    "    df = df.loc[sig_k_sel&sig_a_sel]\n",
    "    if n==1:\n",
    "        df['k'] = df['k']*-1\n",
    "    # hrange =(0, srs_params['k'].quantile([0.98]).item())\n",
    "    hranges = ([-0.02,0.05], [1e-8,10])\n",
    "    for i,x in enumerate('ka'):\n",
    "\n",
    "        ax[n,i].hist(df[x].values, bins=100, range=hranges[i])\n",
    "        ax[n,i].axvline(df[x].median(), color='k', alpha=0.5, label=f'Median = {df[x].median():0.3g}')\n",
    "        ax[n,i].legend()\n",
    "    ax[n,0].set_xlabel(r\"Uptake Rate  $\\left(min^{-1}\\right)$\")\n",
    "    ax[n,1].set_xlabel(r\"Amplitude $\\left( a.u. \\right)$\")\n",
    "\n",
    "    label = [\"direct\", \"log-linear\", \"uptake\"][n]\n",
    "    ax[n,0].set_ylabel(label)\n",
    "\n",
    "    fig.suptitle(\"Estimated Single-Cell Metabolic Parameters\")\n",
    "    print(label)\n",
    "    print(df.mean())\n",
    "    print(df.median())\n",
    "    print()"
   ]
  },
  {
   "cell_type": "code",
   "execution_count": null,
   "id": "e06635ab-9724-4fb9-87fa-ff6cc14e16b4",
   "metadata": {},
   "outputs": [],
   "source": [
    "wt_sel = wt_params['sig_k'].between(1e-16, 1e5)&wt_params['sig_a'].between(1e-16, 1e5)"
   ]
  },
  {
   "cell_type": "code",
   "execution_count": null,
   "id": "469be4a5-9090-4ede-95ab-f0ee394709b6",
   "metadata": {},
   "outputs": [],
   "source": [
    "yup = wt_traces.loc[wt_sel.loc[wt_sel].index]"
   ]
  },
  {
   "cell_type": "code",
   "execution_count": null,
   "id": "faa2418e-3386-4cc6-be5f-9a21a3f94cdd",
   "metadata": {},
   "outputs": [],
   "source": [
    "dil_sel = dil_params_lin['k']<=0"
   ]
  },
  {
   "cell_type": "code",
   "execution_count": null,
   "id": "09dc39bd-82d5-4b34-9faf-35842c526341",
   "metadata": {},
   "outputs": [],
   "source": [
    "ydil = dil_traces.loc[dil_sel[dil_sel].index,:35]"
   ]
  },
  {
   "cell_type": "code",
   "execution_count": null,
   "id": "f48c3bdd-de67-4eed-963f-68c6234832a7",
   "metadata": {},
   "outputs": [],
   "source": [
    "fit_up = curve_fit(exp_approach,t_wt, yup.mean()-yup.mean()[0], sigma=yup.sem(), p0=[20,0.05])"
   ]
  },
  {
   "cell_type": "code",
   "execution_count": null,
   "id": "dbabb9a6-3792-478c-8f9d-de36b8e8b346",
   "metadata": {},
   "outputs": [],
   "source": [
    "pred_up = exp_approach(xplt, *fit_up[0])+yup.mean()[0]"
   ]
  },
  {
   "cell_type": "code",
   "execution_count": null,
   "id": "a2869b8e-78db-460b-a6bb-ba7e0cbb61ec",
   "metadata": {},
   "outputs": [],
   "source": [
    "lr_dil = linregress(t_wt,np.log(ydil.mean().values))\n",
    "pred_dil = np.exp(lr_dil.intercept+lr_dil.slope*xplt)"
   ]
  },
  {
   "cell_type": "code",
   "execution_count": null,
   "id": "f973f141-2275-4034-98d8-0a3261890c8a",
   "metadata": {},
   "outputs": [],
   "source": [
    "Aup = fit_up[0][0]\n",
    "kup = fit_up[0][1]\n",
    "Adil = np.exp(lr_dil.intercept)\n",
    "kdil = -lr_dil.slope"
   ]
  },
  {
   "cell_type": "code",
   "execution_count": null,
   "id": "0dd4e71e-f640-4194-a3aa-9f82b6b9b3ba",
   "metadata": {},
   "outputs": [],
   "source": [
    "plt.figure()\n",
    "gr_lrs = []\n",
    "for i,a in enumerate([wt_count, dil_count]):\n",
    "    # count = a.stack('T').loc[a.stack('T')>0].groupby('T').count().values[:36]\n",
    "    y = a.values[:36]\n",
    "    lr = linregress(t_wt, np.log(y))\n",
    "    gr_lrs.append(lr)\n",
    "    s = ['Deuterated', 'Unlabeled'][i]\n",
    "    plt.plot(t_wt, y, '.', label=f\"{s} medium: Growth rate $\\gamma$ = {lr.slope:0.4g}\", color=colors[i])\n",
    "    # plt.plot(xplt, 2**(lr.intercept+lr.slope*xplt), color=colors[i], alpha=0.6)\n",
    "    plt.plot(xplt, np.exp((lr.intercept+lr.slope*xplt)), color=colors[i], alpha=0.6)\n",
    "plt.semilogy()\n",
    "plt.title(\"Population Growth\")\n",
    "plt.xlabel(\"Time (minutes)\")\n",
    "plt.ylabel(\"Number of cells\")\n",
    "plt.legend();"
   ]
  },
  {
   "cell_type": "code",
   "execution_count": null,
   "id": "900f4d2e-aa4f-4118-afd9-f14faec6d93f",
   "metadata": {},
   "outputs": [],
   "source": [
    "plt.figure()\n",
    "plt.errorbar(t_wt, yup.mean(), yerr=yup.sem(),fmt='.', capsize=3)\n",
    "plt.plot(xplt, pred_up, color=colors[0], label=f\"A={Aup:0.3g} k={kup:0.3g}\")\n",
    "plt.errorbar(t_wt, ydil.mean(),yerr=ydil.sem(),fmt='.', capsize=3)\n",
    "plt.plot(xplt, pred_dil, color=colors[1], label=f\"A={Adil:0.3g} k={kdil:0.3g}\")\n",
    "plt.legend()\n",
    "plt.title(\"Average SRS Intensity\")"
   ]
  },
  {
   "cell_type": "code",
   "execution_count": null,
   "id": "75270321-344b-43ce-960d-e604bf8cdd79",
   "metadata": {},
   "outputs": [],
   "source": [
    "Nup = np.exp(gr_lrs[0].intercept)\n",
    "gup = gr_lrs[0].slope\n",
    "Ndil = np.exp(gr_lrs[1].intercept)\n",
    "gdil = gr_lrs[1].slope"
   ]
  },
  {
   "cell_type": "markdown",
   "id": "87db2afe-d928-4efe-baaa-236ac290a097",
   "metadata": {},
   "source": [
    "$$ \\frac{dM}{dt} = N \\phi_{cell}$$\n",
    "$$ M = N m_0$$\n",
    "\n",
    "$$ \\frac{dN}{dt} =  \\frac{\\phi_{cell}}{m_0}N$$"
   ]
  },
  {
   "cell_type": "code",
   "execution_count": null,
   "id": "a2a9fe5b-fc60-44e1-9d51-7c84c9a59cbb",
   "metadata": {},
   "outputs": [],
   "source": [
    "print(f\"{Aup=:0.3g} {kup=:0.3g}\")\n",
    "print(f\"{Adil=:0.3g} {kdil=:0.3g}\")"
   ]
  },
  {
   "cell_type": "code",
   "execution_count": null,
   "id": "6e72f949-24d0-4dcd-a26e-7f7080017ffa",
   "metadata": {},
   "outputs": [],
   "source": [
    "Aup*kup"
   ]
  },
  {
   "cell_type": "code",
   "execution_count": null,
   "id": "6aba97fe-715e-48d2-b01d-01e170477371",
   "metadata": {},
   "outputs": [],
   "source": [
    "Adil*kdil"
   ]
  },
  {
   "cell_type": "code",
   "execution_count": null,
   "id": "a5f0ac0d-21aa-47cd-8c28-44a40a383f47",
   "metadata": {},
   "outputs": [],
   "source": [
    "print(f\"{Nup=:0.3g} {gup=:0.3g}\")\n",
    "print(f\"{Ndil=:0.3g} {gdil=:0.3g}\")"
   ]
  },
  {
   "cell_type": "code",
   "execution_count": null,
   "id": "c579133c-9568-415b-bfef-518de48c85ed",
   "metadata": {},
   "outputs": [],
   "source": [
    "(kup-gup)/gup"
   ]
  },
  {
   "cell_type": "code",
   "execution_count": null,
   "id": "5c68e73a-170f-42d0-abc6-3c20932f5c5d",
   "metadata": {},
   "outputs": [],
   "source": [
    "rup = kup/gup\n",
    "rup"
   ]
  },
  {
   "cell_type": "code",
   "execution_count": null,
   "id": "85d29470-d06d-41df-8615-d890f9ac64ac",
   "metadata": {},
   "outputs": [],
   "source": [
    "1/rup"
   ]
  },
  {
   "cell_type": "code",
   "execution_count": null,
   "id": "cecbe22e-9948-4d2f-84f6-79c9ad25b703",
   "metadata": {},
   "outputs": [],
   "source": [
    "rdil = kdil/gdil\n",
    "rdil"
   ]
  },
  {
   "cell_type": "code",
   "execution_count": null,
   "id": "66c96e7c-20e8-436a-b6d9-9ee339ce90b4",
   "metadata": {},
   "outputs": [],
   "source": [
    "1/rdil"
   ]
  },
  {
   "cell_type": "code",
   "execution_count": null,
   "id": "d1f0de53-a9f0-4f99-9333-77a4a593664a",
   "metadata": {},
   "outputs": [],
   "source": [
    "rup/rdil"
   ]
  },
  {
   "cell_type": "code",
   "execution_count": null,
   "id": "7b3796ba-eacf-4b63-b4f7-372c20e0d100",
   "metadata": {},
   "outputs": [],
   "source": [
    "(1-np.exp(-1))/np.exp(-1)"
   ]
  },
  {
   "cell_type": "code",
   "execution_count": null,
   "id": "8380802a-a9c9-44b8-9227-8ff5dfc132c2",
   "metadata": {},
   "outputs": [],
   "source": [
    "kup/kdil"
   ]
  },
  {
   "cell_type": "code",
   "execution_count": null,
   "id": "7040c67f-e680-45bb-ab5e-44cf4fdb837e",
   "metadata": {},
   "outputs": [],
   "source": [
    "gup/gdil"
   ]
  },
  {
   "cell_type": "code",
   "execution_count": null,
   "id": "c25779a8-c9cb-439b-b40f-85a6cbff2469",
   "metadata": {},
   "outputs": [],
   "source": [
    "rup2 = np.array([1.0386548516730536, 1.5492932717898884, 1.5506088069480395, 1.626218714457804, 1.2748807840158445])\n",
    "rdil2 = np.array([0.8166119942118373, 0.7727661021075077, 0.7393169821046168, 0.8182849806331856, 0.7584506687997252])"
   ]
  },
  {
   "cell_type": "code",
   "execution_count": null,
   "id": "07d64b7b-0229-4d02-9206-fc9449209289",
   "metadata": {},
   "outputs": [],
   "source": [
    "np.mean(rup2)/np.mean(rdil2)"
   ]
  },
  {
   "cell_type": "code",
   "execution_count": null,
   "id": "82b3371d-c09e-441e-beba-6f81fab93cca",
   "metadata": {},
   "outputs": [],
   "source": [
    "np.mean(rup2)/np.mean(rdil2)"
   ]
  },
  {
   "cell_type": "code",
   "execution_count": null,
   "id": "1ba099e3-0b19-4422-a1bf-95f4af5b9757",
   "metadata": {},
   "outputs": [],
   "source": [
    "np.mean(rup2)"
   ]
  },
  {
   "cell_type": "code",
   "execution_count": null,
   "id": "a1921a9c-820f-426c-9075-b73239a03d00",
   "metadata": {},
   "outputs": [],
   "source": [
    "np.mean(rdil2)"
   ]
  },
  {
   "cell_type": "code",
   "execution_count": null,
   "id": "ad8c159c-38b0-48e7-8264-127ff3a16e6f",
   "metadata": {},
   "outputs": [],
   "source": [
    "np.sqrt(np.var(rup2)/(np.mean(rup2)**2) + np.var(rdil2)/(np.mean(rdil2)**2))"
   ]
  },
  {
   "cell_type": "code",
   "execution_count": null,
   "id": "3a73abb5-822b-4034-930b-3bf8e3731f19",
   "metadata": {},
   "outputs": [],
   "source": [
    "first_areas = wt_area.stack('T').dropna().reset_index('T').groupby(['S','CellID']).first()"
   ]
  },
  {
   "cell_type": "code",
   "execution_count": null,
   "id": "cc39902a-a5fe-4d04-99ea-d678b5560446",
   "metadata": {},
   "outputs": [],
   "source": [
    "growth_areas = wt_area.loc[first_areas[0]<vox_area*100]"
   ]
  },
  {
   "cell_type": "code",
   "execution_count": null,
   "id": "f32df606-a7d1-4ac3-a700-7e9c15f6b833",
   "metadata": {},
   "outputs": [],
   "source": [
    "aligned_areas = np.full_like(growth_areas.values, np.nan)\n",
    "for i,(_,a) in enumerate(growth_areas.iterrows()):\n",
    "    x = a.dropna().values\n",
    "    aligned_areas[i,:a.shape[0]] = a"
   ]
  },
  {
   "cell_type": "code",
   "execution_count": null,
   "id": "d64628fc-e0f1-4585-8c7d-a376cd98095d",
   "metadata": {},
   "outputs": [],
   "source": [
    "n = aligned_areas.shape[0]-np.isnan(aligned_areas).sum(0)"
   ]
  },
  {
   "cell_type": "code",
   "execution_count": null,
   "id": "b42c0c4d-a899-47f4-bc83-db4cf3ecd5b3",
   "metadata": {},
   "outputs": [],
   "source": [
    "v0 = wt_area[0].dropna().mean()\n",
    "vsem  = wt_area[0].dropna().std()"
   ]
  },
  {
   "cell_type": "code",
   "execution_count": null,
   "id": "abe1fc1f-540f-4af7-b28d-8c4a8f3fac16",
   "metadata": {},
   "outputs": [],
   "source": [
    "plt.figure()\n",
    "plt.plot(aligned_areas.T, 'k', alpha=0.1);"
   ]
  },
  {
   "cell_type": "code",
   "execution_count": null,
   "id": "ce80a9c9-787e-4833-b623-befbc30f04cf",
   "metadata": {},
   "outputs": [],
   "source": [
    "plt.figure()\n",
    "for x,a in growth_areas.iterrows():\n",
    "    plt.plot(a.dropna().values, 'k', alpha=0.05)"
   ]
  },
  {
   "cell_type": "code",
   "execution_count": null,
   "id": "81f4eb8d-e896-491d-92dc-16797897ac00",
   "metadata": {},
   "outputs": [],
   "source": [
    "tbinned_areas = growth_areas.groupby(first_areas['T']).mean()\n",
    "tbinned_var = growth_areas.groupby(first_areas['T']).var()"
   ]
  },
  {
   "cell_type": "code",
   "execution_count": null,
   "id": "e16c96f0-b299-4970-8557-258f201177a6",
   "metadata": {},
   "outputs": [],
   "source": [
    "tbinned_srs = wt_traces.groupby(first_areas['T']).mean()"
   ]
  },
  {
   "cell_type": "code",
   "execution_count": null,
   "id": "11b96834-f99e-4f6b-84a0-7e5d2cd9ab60",
   "metadata": {},
   "outputs": [],
   "source": [
    "vcolors = plt.cm.viridis(np.linspace(0.05, 0.95, tbinned_areas.shape[0]))"
   ]
  },
  {
   "cell_type": "code",
   "execution_count": null,
   "id": "5f988cff-9a00-4213-9641-18a540e96154",
   "metadata": {},
   "outputs": [],
   "source": [
    "(first_areas['T'].max()-first_areas['T'].min())/0.9 + 0.05"
   ]
  },
  {
   "cell_type": "code",
   "execution_count": null,
   "id": "07c437b2-318c-41a3-bd58-e048e7ec1193",
   "metadata": {},
   "outputs": [],
   "source": [
    "aligned_areas = np.full_like(tbinned_areas.values, np.nan)\n",
    "aligned_vars = np.full_like(aligned_areas, np.nan)\n",
    "for i in range(tbinned_areas.shape[0]):\n",
    "    x = tbinned_areas.iloc[i].dropna().values\n",
    "    aligned_areas[i,:x.shape[0]] = x\n",
    "    x = tbinned_var.iloc[i].dropna().values\n",
    "    aligned_vars[i,:x.shape[0]] = x\n",
    "aligned_areas = aligned_areas[:,:-1]\n",
    "aligned_vars = aligned_vars[:,:-1]"
   ]
  },
  {
   "cell_type": "code",
   "execution_count": null,
   "id": "df8b1090-6160-4a0f-87f2-bfdec81fe307",
   "metadata": {},
   "outputs": [],
   "source": [
    "aligned_srs = np.full_like(tbinned_srs.values, np.nan)\n",
    "for i in range(tbinned_srs.shape[0]):\n",
    "    x = tbinned_srs.iloc[i].dropna().values\n",
    "    aligned_srs[i,:x.shape[0]] = x-x[0]\n",
    "aligned_srs = aligned_srs[:,:-1]"
   ]
  },
  {
   "cell_type": "code",
   "execution_count": null,
   "id": "b95b9eab-0786-4c93-9748-343470b3052f",
   "metadata": {},
   "outputs": [],
   "source": [
    "plt.figure()\n",
    "for i,(x,a) in enumerate(tbinned_areas.iterrows()):\n",
    "    y = a.dropna().values\n",
    "    plt.plot(t_wt[:y.shape[0]],y, color=vcolors[i], alpha=0.5)\n",
    "# plt.legend(title=\"Time of birth (minutes)\")\n",
    "plt.plot(t_wt[:-1], np.nanmean(aligned_areas, axis=0),'k', label='Average', linewidth=2)\n",
    "cb = plt.colorbar(plt.cm.ScalarMappable( cmap=plt.cm.viridis), label=\"Time of birth (minutes)\")\n",
    "cb.ax.set_yticklabels([f\"{t_wt[21]*x:0.1f}\" for x in np.linspace(0,1,6)])\n",
    "plt.ylabel(\"Area $\\\\left(\\mu m^2 \\\\right)$\")\n",
    "plt.xlabel(\"Time since birth (minutes)\")\n",
    "plt.title(\"Cellular Growth\")\n",
    "plt.axhline(v0, color='k',linestyle='--', alpha=0.5, label=\"Average size of initial cells\")\n",
    "# plt.errorbar(1./0.004, v0,yerr=vsem, fmt='ro', capsize=3)\n",
    "plt.legend()\n",
    "# plt.semilogy();\n",
    "if savefigs: plt.savefig(figpath+\"area_growth.png\")"
   ]
  },
  {
   "cell_type": "code",
   "execution_count": null,
   "id": "15d5cfae-f63d-46ca-886e-36cbc9be7a89",
   "metadata": {},
   "outputs": [],
   "source": [
    "plt.figure()\n",
    "for i,(x,a) in enumerate(tbinned_srs.iterrows()):\n",
    "    y = a.dropna().values\n",
    "    plt.plot(t_wt[-y.shape[0]:],y, color=vcolors[i], alpha=0.75)\n",
    "# plt.legend(title=\"Time of birth (minutes)\")\n",
    "plt.plot(t_wt,tbinned_srs.mean(),'k', label='Average', linewidth=2)\n",
    "cb = plt.colorbar(plt.cm.ScalarMappable( cmap=plt.cm.viridis), label=\"Time of birth (minutes)\")\n",
    "cb.ax.set_yticklabels([f\"{t_wt[21]*x:0.1f}\" for x in np.linspace(0,1,6)])\n",
    "plt.ylabel(\"SRS Intensity (a.u.)\")\n",
    "plt.xlabel(\"Time (minutes)\")\n",
    "plt.title(\"Net-glucose uptake after cell birth\")\n",
    "# plt.axhline(v0, color='k',linestyle='--', alpha=0.5, label=\"Average size of initial cells\")\n",
    "# plt.errorbar(1./0.004, v0,yerr=vsem, fmt='ro', capsize=3)\n",
    "plt.legend()\n",
    "# plt.semilogy();\n",
    "if savefigs: plt.savefig(figpath+\"srs_by_age.png\")"
   ]
  },
  {
   "cell_type": "code",
   "execution_count": null,
   "id": "0773237b-0403-49ea-afc1-d07ce2fb881a",
   "metadata": {},
   "outputs": [],
   "source": [
    "plt.figure()\n",
    "for i,(x,a) in enumerate(tbinned_srs.iterrows()):\n",
    "    y = a.dropna().values\n",
    "    plt.plot(t_wt[:y.shape[0]],y-y[0], color=vcolors[i], alpha=0.75)\n",
    "# plt.legend(title=\"Time of birth (minutes)\")\n",
    "# plt.plot(t_wt[:-1], np.nanmean(aligned_srs,0),'k', label='Average', linewidth=2)\n",
    "cb = plt.colorbar(plt.cm.ScalarMappable( cmap=plt.cm.viridis), label=\"Time of birth (minutes)\")\n",
    "cb.ax.set_yticklabels([f\"{t_wt[21]*x:0.1f}\" for x in np.linspace(0,1,6)])\n",
    "plt.title(\"Net Glucose Uptake After Birth\")\n",
    "plt.xlabel(\"Time since birth (minutes)\")\n",
    "plt.ylabel(\"SRS (a.u.)\")\n",
    "# plt.axhline(v0, color='k',linestyle='--', alpha=0.5, label=\"Average size of initial cells\")\n",
    "# plt.errorbar(1./0.004, v0,yerr=vsem, fmt='ro', capsize=3)\n",
    "# plt.legend()\n",
    "# plt.semilogy();\n",
    "if savefigs: plt.savefig(figpath+\"aligned_uptake.png\")"
   ]
  },
  {
   "cell_type": "code",
   "execution_count": null,
   "id": "6cd5ed04-d47a-42a4-9511-5609694d9bfa",
   "metadata": {},
   "outputs": [],
   "source": []
  }
 ],
 "metadata": {
  "kernelspec": {
   "display_name": "Python 3 (ipykernel)",
   "language": "python",
   "name": "python3"
  },
  "language_info": {
   "codemirror_mode": {
    "name": "ipython",
    "version": 3
   },
   "file_extension": ".py",
   "mimetype": "text/x-python",
   "name": "python",
   "nbconvert_exporter": "python",
   "pygments_lexer": "ipython3",
   "version": "3.9.5"
  }
 },
 "nbformat": 4,
 "nbformat_minor": 5
}
